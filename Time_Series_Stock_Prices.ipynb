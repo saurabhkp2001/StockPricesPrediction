{
 "cells": [
  {
   "cell_type": "code",
   "execution_count": null,
   "id": "4a04e692-1ca0-458b-902d-ef21ec24a646",
   "metadata": {},
   "outputs": [],
   "source": []
  },
  {
   "cell_type": "code",
   "execution_count": 1,
   "id": "9812e3ad-253b-466c-bfc5-f1df39b2d815",
   "metadata": {},
   "outputs": [],
   "source": [
    "import numpy as np\n",
    "import pandas as pd\n",
    "import matplotlib.pyplot as plt\n",
    "import seaborn as sns\n",
    "from scipy import stats\n",
    "import plotly.graph_objects as go"
   ]
  },
  {
   "cell_type": "code",
   "execution_count": null,
   "id": "8b4bc01d-05c9-4246-bb16-cc7a8ed794bb",
   "metadata": {},
   "outputs": [],
   "source": []
  },
  {
   "cell_type": "code",
   "execution_count": 2,
   "id": "943cdc5e-6820-4bd6-ba75-3779ed339e51",
   "metadata": {},
   "outputs": [],
   "source": [
    "df=pd.read_csv(r\"C:\\Users\\Dell\\Documents\\TimeSeriesProject\\BAJAJFINSV.csv\")"
   ]
  },
  {
   "cell_type": "code",
   "execution_count": 3,
   "id": "b64cae05-3168-4843-bf25-1249f50084e4",
   "metadata": {},
   "outputs": [
    {
     "data": {
      "text/plain": [
       "pandas.core.frame.DataFrame"
      ]
     },
     "execution_count": 3,
     "metadata": {},
     "output_type": "execute_result"
    }
   ],
   "source": [
    "type(df)"
   ]
  },
  {
   "cell_type": "code",
   "execution_count": 4,
   "id": "fbba16b0-5e98-4454-b148-4c7d3f1f32d5",
   "metadata": {},
   "outputs": [],
   "source": [
    "data=df.set_index('Date')"
   ]
  },
  {
   "cell_type": "code",
   "execution_count": 5,
   "id": "595d928f-c2a0-43af-bb56-1b017366a845",
   "metadata": {},
   "outputs": [
    {
     "data": {
      "text/html": [
       "<div>\n",
       "<style scoped>\n",
       "    .dataframe tbody tr th:only-of-type {\n",
       "        vertical-align: middle;\n",
       "    }\n",
       "\n",
       "    .dataframe tbody tr th {\n",
       "        vertical-align: top;\n",
       "    }\n",
       "\n",
       "    .dataframe thead th {\n",
       "        text-align: right;\n",
       "    }\n",
       "</style>\n",
       "<table border=\"1\" class=\"dataframe\">\n",
       "  <thead>\n",
       "    <tr style=\"text-align: right;\">\n",
       "      <th></th>\n",
       "      <th>Symbol</th>\n",
       "      <th>Series</th>\n",
       "      <th>Prev Close</th>\n",
       "      <th>Open</th>\n",
       "      <th>High</th>\n",
       "      <th>Low</th>\n",
       "      <th>Last</th>\n",
       "      <th>Close</th>\n",
       "      <th>VWAP</th>\n",
       "      <th>Volume</th>\n",
       "      <th>Turnover</th>\n",
       "      <th>Trades</th>\n",
       "      <th>Deliverable Volume</th>\n",
       "      <th>%Deliverble</th>\n",
       "    </tr>\n",
       "    <tr>\n",
       "      <th>Date</th>\n",
       "      <th></th>\n",
       "      <th></th>\n",
       "      <th></th>\n",
       "      <th></th>\n",
       "      <th></th>\n",
       "      <th></th>\n",
       "      <th></th>\n",
       "      <th></th>\n",
       "      <th></th>\n",
       "      <th></th>\n",
       "      <th></th>\n",
       "      <th></th>\n",
       "      <th></th>\n",
       "      <th></th>\n",
       "    </tr>\n",
       "  </thead>\n",
       "  <tbody>\n",
       "    <tr>\n",
       "      <th>2008-05-26</th>\n",
       "      <td>BAJAJFINSV</td>\n",
       "      <td>EQ</td>\n",
       "      <td>2101.05</td>\n",
       "      <td>600.00</td>\n",
       "      <td>619.00</td>\n",
       "      <td>501.0</td>\n",
       "      <td>505.1</td>\n",
       "      <td>509.10</td>\n",
       "      <td>548.85</td>\n",
       "      <td>3145446</td>\n",
       "      <td>1.726368e+14</td>\n",
       "      <td>NaN</td>\n",
       "      <td>908264</td>\n",
       "      <td>0.2888</td>\n",
       "    </tr>\n",
       "    <tr>\n",
       "      <th>2008-05-27</th>\n",
       "      <td>BAJAJFINSV</td>\n",
       "      <td>EQ</td>\n",
       "      <td>509.10</td>\n",
       "      <td>505.00</td>\n",
       "      <td>610.95</td>\n",
       "      <td>491.1</td>\n",
       "      <td>564.0</td>\n",
       "      <td>554.65</td>\n",
       "      <td>572.15</td>\n",
       "      <td>4349144</td>\n",
       "      <td>2.488370e+14</td>\n",
       "      <td>NaN</td>\n",
       "      <td>677627</td>\n",
       "      <td>0.1558</td>\n",
       "    </tr>\n",
       "    <tr>\n",
       "      <th>2008-05-28</th>\n",
       "      <td>BAJAJFINSV</td>\n",
       "      <td>EQ</td>\n",
       "      <td>554.65</td>\n",
       "      <td>564.00</td>\n",
       "      <td>665.60</td>\n",
       "      <td>564.0</td>\n",
       "      <td>643.0</td>\n",
       "      <td>640.95</td>\n",
       "      <td>618.37</td>\n",
       "      <td>4588759</td>\n",
       "      <td>2.837530e+14</td>\n",
       "      <td>NaN</td>\n",
       "      <td>774895</td>\n",
       "      <td>0.1689</td>\n",
       "    </tr>\n",
       "    <tr>\n",
       "      <th>2008-05-29</th>\n",
       "      <td>BAJAJFINSV</td>\n",
       "      <td>EQ</td>\n",
       "      <td>640.95</td>\n",
       "      <td>656.65</td>\n",
       "      <td>703.00</td>\n",
       "      <td>608.0</td>\n",
       "      <td>634.5</td>\n",
       "      <td>632.40</td>\n",
       "      <td>659.60</td>\n",
       "      <td>4522302</td>\n",
       "      <td>2.982921e+14</td>\n",
       "      <td>NaN</td>\n",
       "      <td>1006161</td>\n",
       "      <td>0.2225</td>\n",
       "    </tr>\n",
       "    <tr>\n",
       "      <th>2008-05-30</th>\n",
       "      <td>BAJAJFINSV</td>\n",
       "      <td>EQ</td>\n",
       "      <td>632.40</td>\n",
       "      <td>642.40</td>\n",
       "      <td>668.00</td>\n",
       "      <td>588.3</td>\n",
       "      <td>647.0</td>\n",
       "      <td>644.00</td>\n",
       "      <td>636.41</td>\n",
       "      <td>3057669</td>\n",
       "      <td>1.945929e+14</td>\n",
       "      <td>NaN</td>\n",
       "      <td>462832</td>\n",
       "      <td>0.1514</td>\n",
       "    </tr>\n",
       "  </tbody>\n",
       "</table>\n",
       "</div>"
      ],
      "text/plain": [
       "                Symbol Series  Prev Close    Open    High    Low   Last  \\\n",
       "Date                                                                      \n",
       "2008-05-26  BAJAJFINSV     EQ     2101.05  600.00  619.00  501.0  505.1   \n",
       "2008-05-27  BAJAJFINSV     EQ      509.10  505.00  610.95  491.1  564.0   \n",
       "2008-05-28  BAJAJFINSV     EQ      554.65  564.00  665.60  564.0  643.0   \n",
       "2008-05-29  BAJAJFINSV     EQ      640.95  656.65  703.00  608.0  634.5   \n",
       "2008-05-30  BAJAJFINSV     EQ      632.40  642.40  668.00  588.3  647.0   \n",
       "\n",
       "             Close    VWAP   Volume      Turnover  Trades  Deliverable Volume  \\\n",
       "Date                                                                            \n",
       "2008-05-26  509.10  548.85  3145446  1.726368e+14     NaN              908264   \n",
       "2008-05-27  554.65  572.15  4349144  2.488370e+14     NaN              677627   \n",
       "2008-05-28  640.95  618.37  4588759  2.837530e+14     NaN              774895   \n",
       "2008-05-29  632.40  659.60  4522302  2.982921e+14     NaN             1006161   \n",
       "2008-05-30  644.00  636.41  3057669  1.945929e+14     NaN              462832   \n",
       "\n",
       "            %Deliverble  \n",
       "Date                     \n",
       "2008-05-26       0.2888  \n",
       "2008-05-27       0.1558  \n",
       "2008-05-28       0.1689  \n",
       "2008-05-29       0.2225  \n",
       "2008-05-30       0.1514  "
      ]
     },
     "execution_count": 5,
     "metadata": {},
     "output_type": "execute_result"
    }
   ],
   "source": [
    "data.head()"
   ]
  },
  {
   "cell_type": "code",
   "execution_count": 6,
   "id": "7a5efe74-96d9-41e2-b087-83321274f8ee",
   "metadata": {},
   "outputs": [
    {
     "data": {
      "text/html": [
       "<div>\n",
       "<style scoped>\n",
       "    .dataframe tbody tr th:only-of-type {\n",
       "        vertical-align: middle;\n",
       "    }\n",
       "\n",
       "    .dataframe tbody tr th {\n",
       "        vertical-align: top;\n",
       "    }\n",
       "\n",
       "    .dataframe thead th {\n",
       "        text-align: right;\n",
       "    }\n",
       "</style>\n",
       "<table border=\"1\" class=\"dataframe\">\n",
       "  <thead>\n",
       "    <tr style=\"text-align: right;\">\n",
       "      <th></th>\n",
       "      <th>Prev Close</th>\n",
       "      <th>Open</th>\n",
       "      <th>High</th>\n",
       "      <th>Low</th>\n",
       "      <th>Last</th>\n",
       "      <th>Close</th>\n",
       "      <th>VWAP</th>\n",
       "      <th>Volume</th>\n",
       "      <th>Turnover</th>\n",
       "      <th>Trades</th>\n",
       "      <th>Deliverable Volume</th>\n",
       "      <th>%Deliverble</th>\n",
       "    </tr>\n",
       "  </thead>\n",
       "  <tbody>\n",
       "    <tr>\n",
       "      <th>count</th>\n",
       "      <td>3201.000000</td>\n",
       "      <td>3201.000000</td>\n",
       "      <td>3201.000000</td>\n",
       "      <td>3201.000000</td>\n",
       "      <td>3201.000000</td>\n",
       "      <td>3201.000000</td>\n",
       "      <td>3201.000000</td>\n",
       "      <td>3.201000e+03</td>\n",
       "      <td>3.201000e+03</td>\n",
       "      <td>2456.000000</td>\n",
       "      <td>3.201000e+03</td>\n",
       "      <td>3201.000000</td>\n",
       "    </tr>\n",
       "    <tr>\n",
       "      <th>mean</th>\n",
       "      <td>2755.864386</td>\n",
       "      <td>2760.382381</td>\n",
       "      <td>2803.614449</td>\n",
       "      <td>2716.731443</td>\n",
       "      <td>2758.781537</td>\n",
       "      <td>2758.657451</td>\n",
       "      <td>2761.156954</td>\n",
       "      <td>2.315312e+05</td>\n",
       "      <td>9.533424e+13</td>\n",
       "      <td>20892.811075</td>\n",
       "      <td>7.409510e+04</td>\n",
       "      <td>0.471614</td>\n",
       "    </tr>\n",
       "    <tr>\n",
       "      <th>std</th>\n",
       "      <td>2869.811765</td>\n",
       "      <td>2874.814173</td>\n",
       "      <td>2912.885262</td>\n",
       "      <td>2834.037357</td>\n",
       "      <td>2873.792614</td>\n",
       "      <td>2873.522615</td>\n",
       "      <td>2874.033545</td>\n",
       "      <td>4.402681e+05</td>\n",
       "      <td>2.176448e+14</td>\n",
       "      <td>32396.302068</td>\n",
       "      <td>1.464012e+05</td>\n",
       "      <td>0.218910</td>\n",
       "    </tr>\n",
       "    <tr>\n",
       "      <th>min</th>\n",
       "      <td>90.750000</td>\n",
       "      <td>88.150000</td>\n",
       "      <td>93.100000</td>\n",
       "      <td>88.150000</td>\n",
       "      <td>91.000000</td>\n",
       "      <td>90.750000</td>\n",
       "      <td>89.260000</td>\n",
       "      <td>4.570000e+02</td>\n",
       "      <td>1.376712e+10</td>\n",
       "      <td>149.000000</td>\n",
       "      <td>4.560000e+02</td>\n",
       "      <td>0.056200</td>\n",
       "    </tr>\n",
       "    <tr>\n",
       "      <th>25%</th>\n",
       "      <td>527.900000</td>\n",
       "      <td>528.600000</td>\n",
       "      <td>542.600000</td>\n",
       "      <td>520.000000</td>\n",
       "      <td>527.950000</td>\n",
       "      <td>527.900000</td>\n",
       "      <td>531.270000</td>\n",
       "      <td>3.981100e+04</td>\n",
       "      <td>2.751053e+12</td>\n",
       "      <td>2951.750000</td>\n",
       "      <td>2.086300e+04</td>\n",
       "      <td>0.287400</td>\n",
       "    </tr>\n",
       "    <tr>\n",
       "      <th>50%</th>\n",
       "      <td>1098.700000</td>\n",
       "      <td>1095.000000</td>\n",
       "      <td>1118.000000</td>\n",
       "      <td>1080.250000</td>\n",
       "      <td>1100.000000</td>\n",
       "      <td>1098.700000</td>\n",
       "      <td>1103.560000</td>\n",
       "      <td>9.995300e+04</td>\n",
       "      <td>1.090486e+13</td>\n",
       "      <td>9450.000000</td>\n",
       "      <td>4.159700e+04</td>\n",
       "      <td>0.469700</td>\n",
       "    </tr>\n",
       "    <tr>\n",
       "      <th>75%</th>\n",
       "      <td>5121.900000</td>\n",
       "      <td>5120.000000</td>\n",
       "      <td>5199.800000</td>\n",
       "      <td>5042.800000</td>\n",
       "      <td>5115.000000</td>\n",
       "      <td>5125.100000</td>\n",
       "      <td>5127.510000</td>\n",
       "      <td>2.315400e+05</td>\n",
       "      <td>8.755946e+13</td>\n",
       "      <td>24439.750000</td>\n",
       "      <td>8.308900e+04</td>\n",
       "      <td>0.636000</td>\n",
       "    </tr>\n",
       "    <tr>\n",
       "      <th>max</th>\n",
       "      <td>11176.550000</td>\n",
       "      <td>11000.000000</td>\n",
       "      <td>11300.000000</td>\n",
       "      <td>10868.700000</td>\n",
       "      <td>11175.450000</td>\n",
       "      <td>11176.550000</td>\n",
       "      <td>11081.780000</td>\n",
       "      <td>6.271671e+06</td>\n",
       "      <td>3.394379e+15</td>\n",
       "      <td>312959.000000</td>\n",
       "      <td>3.804696e+06</td>\n",
       "      <td>1.000000</td>\n",
       "    </tr>\n",
       "  </tbody>\n",
       "</table>\n",
       "</div>"
      ],
      "text/plain": [
       "         Prev Close          Open          High           Low          Last  \\\n",
       "count   3201.000000   3201.000000   3201.000000   3201.000000   3201.000000   \n",
       "mean    2755.864386   2760.382381   2803.614449   2716.731443   2758.781537   \n",
       "std     2869.811765   2874.814173   2912.885262   2834.037357   2873.792614   \n",
       "min       90.750000     88.150000     93.100000     88.150000     91.000000   \n",
       "25%      527.900000    528.600000    542.600000    520.000000    527.950000   \n",
       "50%     1098.700000   1095.000000   1118.000000   1080.250000   1100.000000   \n",
       "75%     5121.900000   5120.000000   5199.800000   5042.800000   5115.000000   \n",
       "max    11176.550000  11000.000000  11300.000000  10868.700000  11175.450000   \n",
       "\n",
       "              Close          VWAP        Volume      Turnover         Trades  \\\n",
       "count   3201.000000   3201.000000  3.201000e+03  3.201000e+03    2456.000000   \n",
       "mean    2758.657451   2761.156954  2.315312e+05  9.533424e+13   20892.811075   \n",
       "std     2873.522615   2874.033545  4.402681e+05  2.176448e+14   32396.302068   \n",
       "min       90.750000     89.260000  4.570000e+02  1.376712e+10     149.000000   \n",
       "25%      527.900000    531.270000  3.981100e+04  2.751053e+12    2951.750000   \n",
       "50%     1098.700000   1103.560000  9.995300e+04  1.090486e+13    9450.000000   \n",
       "75%     5125.100000   5127.510000  2.315400e+05  8.755946e+13   24439.750000   \n",
       "max    11176.550000  11081.780000  6.271671e+06  3.394379e+15  312959.000000   \n",
       "\n",
       "       Deliverable Volume  %Deliverble  \n",
       "count        3.201000e+03  3201.000000  \n",
       "mean         7.409510e+04     0.471614  \n",
       "std          1.464012e+05     0.218910  \n",
       "min          4.560000e+02     0.056200  \n",
       "25%          2.086300e+04     0.287400  \n",
       "50%          4.159700e+04     0.469700  \n",
       "75%          8.308900e+04     0.636000  \n",
       "max          3.804696e+06     1.000000  "
      ]
     },
     "execution_count": 6,
     "metadata": {},
     "output_type": "execute_result"
    }
   ],
   "source": [
    "data.describe()"
   ]
  },
  {
   "cell_type": "code",
   "execution_count": 7,
   "id": "4e60e345-89a3-43c6-a762-056c2be21a14",
   "metadata": {},
   "outputs": [
    {
     "data": {
      "text/plain": [
       "Symbol                  0\n",
       "Series                  0\n",
       "Prev Close              0\n",
       "Open                    0\n",
       "High                    0\n",
       "Low                     0\n",
       "Last                    0\n",
       "Close                   0\n",
       "VWAP                    0\n",
       "Volume                  0\n",
       "Turnover                0\n",
       "Trades                745\n",
       "Deliverable Volume      0\n",
       "%Deliverble             0\n",
       "dtype: int64"
      ]
     },
     "execution_count": 7,
     "metadata": {},
     "output_type": "execute_result"
    }
   ],
   "source": [
    "data.isna().sum()"
   ]
  },
  {
   "cell_type": "code",
   "execution_count": 8,
   "id": "c29dd6c4-a514-4026-9f63-6f51f5a743cb",
   "metadata": {},
   "outputs": [
    {
     "data": {
      "text/plain": [
       "(3201, 14)"
      ]
     },
     "execution_count": 8,
     "metadata": {},
     "output_type": "execute_result"
    }
   ],
   "source": [
    "data.shape"
   ]
  },
  {
   "cell_type": "code",
   "execution_count": 9,
   "id": "e3e7515a-1646-4c26-9d30-dff17c91c252",
   "metadata": {},
   "outputs": [
    {
     "data": {
      "text/html": [
       "<div>\n",
       "<style scoped>\n",
       "    .dataframe tbody tr th:only-of-type {\n",
       "        vertical-align: middle;\n",
       "    }\n",
       "\n",
       "    .dataframe tbody tr th {\n",
       "        vertical-align: top;\n",
       "    }\n",
       "\n",
       "    .dataframe thead th {\n",
       "        text-align: right;\n",
       "    }\n",
       "</style>\n",
       "<table border=\"1\" class=\"dataframe\">\n",
       "  <thead>\n",
       "    <tr style=\"text-align: right;\">\n",
       "      <th></th>\n",
       "      <th>Symbol</th>\n",
       "      <th>Series</th>\n",
       "      <th>Prev Close</th>\n",
       "      <th>Open</th>\n",
       "      <th>High</th>\n",
       "      <th>Low</th>\n",
       "      <th>Last</th>\n",
       "      <th>Close</th>\n",
       "      <th>VWAP</th>\n",
       "      <th>Volume</th>\n",
       "      <th>Turnover</th>\n",
       "      <th>Trades</th>\n",
       "      <th>Deliverable Volume</th>\n",
       "      <th>%Deliverble</th>\n",
       "    </tr>\n",
       "    <tr>\n",
       "      <th>Date</th>\n",
       "      <th></th>\n",
       "      <th></th>\n",
       "      <th></th>\n",
       "      <th></th>\n",
       "      <th></th>\n",
       "      <th></th>\n",
       "      <th></th>\n",
       "      <th></th>\n",
       "      <th></th>\n",
       "      <th></th>\n",
       "      <th></th>\n",
       "      <th></th>\n",
       "      <th></th>\n",
       "      <th></th>\n",
       "    </tr>\n",
       "  </thead>\n",
       "  <tbody>\n",
       "    <tr>\n",
       "      <th>2008-05-26</th>\n",
       "      <td>BAJAJFINSV</td>\n",
       "      <td>EQ</td>\n",
       "      <td>2101.05</td>\n",
       "      <td>600.00</td>\n",
       "      <td>619.00</td>\n",
       "      <td>501.00</td>\n",
       "      <td>505.10</td>\n",
       "      <td>509.10</td>\n",
       "      <td>548.85</td>\n",
       "      <td>3145446</td>\n",
       "      <td>1.726368e+14</td>\n",
       "      <td>NaN</td>\n",
       "      <td>908264</td>\n",
       "      <td>0.2888</td>\n",
       "    </tr>\n",
       "    <tr>\n",
       "      <th>2008-05-27</th>\n",
       "      <td>BAJAJFINSV</td>\n",
       "      <td>EQ</td>\n",
       "      <td>509.10</td>\n",
       "      <td>505.00</td>\n",
       "      <td>610.95</td>\n",
       "      <td>491.10</td>\n",
       "      <td>564.00</td>\n",
       "      <td>554.65</td>\n",
       "      <td>572.15</td>\n",
       "      <td>4349144</td>\n",
       "      <td>2.488370e+14</td>\n",
       "      <td>NaN</td>\n",
       "      <td>677627</td>\n",
       "      <td>0.1558</td>\n",
       "    </tr>\n",
       "    <tr>\n",
       "      <th>2008-05-28</th>\n",
       "      <td>BAJAJFINSV</td>\n",
       "      <td>EQ</td>\n",
       "      <td>554.65</td>\n",
       "      <td>564.00</td>\n",
       "      <td>665.60</td>\n",
       "      <td>564.00</td>\n",
       "      <td>643.00</td>\n",
       "      <td>640.95</td>\n",
       "      <td>618.37</td>\n",
       "      <td>4588759</td>\n",
       "      <td>2.837530e+14</td>\n",
       "      <td>NaN</td>\n",
       "      <td>774895</td>\n",
       "      <td>0.1689</td>\n",
       "    </tr>\n",
       "    <tr>\n",
       "      <th>2008-05-29</th>\n",
       "      <td>BAJAJFINSV</td>\n",
       "      <td>EQ</td>\n",
       "      <td>640.95</td>\n",
       "      <td>656.65</td>\n",
       "      <td>703.00</td>\n",
       "      <td>608.00</td>\n",
       "      <td>634.50</td>\n",
       "      <td>632.40</td>\n",
       "      <td>659.60</td>\n",
       "      <td>4522302</td>\n",
       "      <td>2.982921e+14</td>\n",
       "      <td>NaN</td>\n",
       "      <td>1006161</td>\n",
       "      <td>0.2225</td>\n",
       "    </tr>\n",
       "    <tr>\n",
       "      <th>2008-05-30</th>\n",
       "      <td>BAJAJFINSV</td>\n",
       "      <td>EQ</td>\n",
       "      <td>632.40</td>\n",
       "      <td>642.40</td>\n",
       "      <td>668.00</td>\n",
       "      <td>588.30</td>\n",
       "      <td>647.00</td>\n",
       "      <td>644.00</td>\n",
       "      <td>636.41</td>\n",
       "      <td>3057669</td>\n",
       "      <td>1.945929e+14</td>\n",
       "      <td>NaN</td>\n",
       "      <td>462832</td>\n",
       "      <td>0.1514</td>\n",
       "    </tr>\n",
       "    <tr>\n",
       "      <th>...</th>\n",
       "      <td>...</td>\n",
       "      <td>...</td>\n",
       "      <td>...</td>\n",
       "      <td>...</td>\n",
       "      <td>...</td>\n",
       "      <td>...</td>\n",
       "      <td>...</td>\n",
       "      <td>...</td>\n",
       "      <td>...</td>\n",
       "      <td>...</td>\n",
       "      <td>...</td>\n",
       "      <td>...</td>\n",
       "      <td>...</td>\n",
       "      <td>...</td>\n",
       "    </tr>\n",
       "    <tr>\n",
       "      <th>2011-05-25</th>\n",
       "      <td>BAJAJFINSV</td>\n",
       "      <td>EQ</td>\n",
       "      <td>490.50</td>\n",
       "      <td>485.00</td>\n",
       "      <td>498.50</td>\n",
       "      <td>485.00</td>\n",
       "      <td>489.00</td>\n",
       "      <td>485.95</td>\n",
       "      <td>491.58</td>\n",
       "      <td>68329</td>\n",
       "      <td>3.358895e+12</td>\n",
       "      <td>NaN</td>\n",
       "      <td>17938</td>\n",
       "      <td>0.2625</td>\n",
       "    </tr>\n",
       "    <tr>\n",
       "      <th>2011-05-26</th>\n",
       "      <td>BAJAJFINSV</td>\n",
       "      <td>EQ</td>\n",
       "      <td>485.95</td>\n",
       "      <td>489.90</td>\n",
       "      <td>491.40</td>\n",
       "      <td>482.20</td>\n",
       "      <td>485.40</td>\n",
       "      <td>484.70</td>\n",
       "      <td>486.95</td>\n",
       "      <td>27605</td>\n",
       "      <td>1.344235e+12</td>\n",
       "      <td>NaN</td>\n",
       "      <td>8579</td>\n",
       "      <td>0.3108</td>\n",
       "    </tr>\n",
       "    <tr>\n",
       "      <th>2011-05-27</th>\n",
       "      <td>BAJAJFINSV</td>\n",
       "      <td>EQ</td>\n",
       "      <td>484.70</td>\n",
       "      <td>485.65</td>\n",
       "      <td>492.00</td>\n",
       "      <td>484.05</td>\n",
       "      <td>486.30</td>\n",
       "      <td>486.90</td>\n",
       "      <td>487.88</td>\n",
       "      <td>35212</td>\n",
       "      <td>1.717919e+12</td>\n",
       "      <td>NaN</td>\n",
       "      <td>11239</td>\n",
       "      <td>0.3192</td>\n",
       "    </tr>\n",
       "    <tr>\n",
       "      <th>2011-05-30</th>\n",
       "      <td>BAJAJFINSV</td>\n",
       "      <td>EQ</td>\n",
       "      <td>486.90</td>\n",
       "      <td>491.85</td>\n",
       "      <td>498.00</td>\n",
       "      <td>490.30</td>\n",
       "      <td>493.10</td>\n",
       "      <td>493.70</td>\n",
       "      <td>493.78</td>\n",
       "      <td>43441</td>\n",
       "      <td>2.145038e+12</td>\n",
       "      <td>NaN</td>\n",
       "      <td>13254</td>\n",
       "      <td>0.3051</td>\n",
       "    </tr>\n",
       "    <tr>\n",
       "      <th>2011-05-31</th>\n",
       "      <td>BAJAJFINSV</td>\n",
       "      <td>EQ</td>\n",
       "      <td>493.70</td>\n",
       "      <td>495.05</td>\n",
       "      <td>521.50</td>\n",
       "      <td>494.00</td>\n",
       "      <td>517.25</td>\n",
       "      <td>518.40</td>\n",
       "      <td>513.67</td>\n",
       "      <td>327035</td>\n",
       "      <td>1.679887e+13</td>\n",
       "      <td>NaN</td>\n",
       "      <td>67729</td>\n",
       "      <td>0.2071</td>\n",
       "    </tr>\n",
       "  </tbody>\n",
       "</table>\n",
       "<p>745 rows × 14 columns</p>\n",
       "</div>"
      ],
      "text/plain": [
       "                Symbol Series  Prev Close    Open    High     Low    Last  \\\n",
       "Date                                                                        \n",
       "2008-05-26  BAJAJFINSV     EQ     2101.05  600.00  619.00  501.00  505.10   \n",
       "2008-05-27  BAJAJFINSV     EQ      509.10  505.00  610.95  491.10  564.00   \n",
       "2008-05-28  BAJAJFINSV     EQ      554.65  564.00  665.60  564.00  643.00   \n",
       "2008-05-29  BAJAJFINSV     EQ      640.95  656.65  703.00  608.00  634.50   \n",
       "2008-05-30  BAJAJFINSV     EQ      632.40  642.40  668.00  588.30  647.00   \n",
       "...                ...    ...         ...     ...     ...     ...     ...   \n",
       "2011-05-25  BAJAJFINSV     EQ      490.50  485.00  498.50  485.00  489.00   \n",
       "2011-05-26  BAJAJFINSV     EQ      485.95  489.90  491.40  482.20  485.40   \n",
       "2011-05-27  BAJAJFINSV     EQ      484.70  485.65  492.00  484.05  486.30   \n",
       "2011-05-30  BAJAJFINSV     EQ      486.90  491.85  498.00  490.30  493.10   \n",
       "2011-05-31  BAJAJFINSV     EQ      493.70  495.05  521.50  494.00  517.25   \n",
       "\n",
       "             Close    VWAP   Volume      Turnover  Trades  Deliverable Volume  \\\n",
       "Date                                                                            \n",
       "2008-05-26  509.10  548.85  3145446  1.726368e+14     NaN              908264   \n",
       "2008-05-27  554.65  572.15  4349144  2.488370e+14     NaN              677627   \n",
       "2008-05-28  640.95  618.37  4588759  2.837530e+14     NaN              774895   \n",
       "2008-05-29  632.40  659.60  4522302  2.982921e+14     NaN             1006161   \n",
       "2008-05-30  644.00  636.41  3057669  1.945929e+14     NaN              462832   \n",
       "...            ...     ...      ...           ...     ...                 ...   \n",
       "2011-05-25  485.95  491.58    68329  3.358895e+12     NaN               17938   \n",
       "2011-05-26  484.70  486.95    27605  1.344235e+12     NaN                8579   \n",
       "2011-05-27  486.90  487.88    35212  1.717919e+12     NaN               11239   \n",
       "2011-05-30  493.70  493.78    43441  2.145038e+12     NaN               13254   \n",
       "2011-05-31  518.40  513.67   327035  1.679887e+13     NaN               67729   \n",
       "\n",
       "            %Deliverble  \n",
       "Date                     \n",
       "2008-05-26       0.2888  \n",
       "2008-05-27       0.1558  \n",
       "2008-05-28       0.1689  \n",
       "2008-05-29       0.2225  \n",
       "2008-05-30       0.1514  \n",
       "...                 ...  \n",
       "2011-05-25       0.2625  \n",
       "2011-05-26       0.3108  \n",
       "2011-05-27       0.3192  \n",
       "2011-05-30       0.3051  \n",
       "2011-05-31       0.2071  \n",
       "\n",
       "[745 rows x 14 columns]"
      ]
     },
     "execution_count": 9,
     "metadata": {},
     "output_type": "execute_result"
    }
   ],
   "source": [
    "data[data['Trades'].isna()]"
   ]
  },
  {
   "cell_type": "code",
   "execution_count": 10,
   "id": "dab50382-21b9-4938-9d67-b2f4b99fb445",
   "metadata": {},
   "outputs": [],
   "source": [
    "dataframe=data.drop(columns='Trades',axis=1)"
   ]
  },
  {
   "cell_type": "code",
   "execution_count": 11,
   "id": "87c60601-1451-4bab-ad63-e157ed9f17ee",
   "metadata": {},
   "outputs": [
    {
     "data": {
      "text/html": [
       "<div>\n",
       "<style scoped>\n",
       "    .dataframe tbody tr th:only-of-type {\n",
       "        vertical-align: middle;\n",
       "    }\n",
       "\n",
       "    .dataframe tbody tr th {\n",
       "        vertical-align: top;\n",
       "    }\n",
       "\n",
       "    .dataframe thead th {\n",
       "        text-align: right;\n",
       "    }\n",
       "</style>\n",
       "<table border=\"1\" class=\"dataframe\">\n",
       "  <thead>\n",
       "    <tr style=\"text-align: right;\">\n",
       "      <th></th>\n",
       "      <th>Symbol</th>\n",
       "      <th>Series</th>\n",
       "      <th>Prev Close</th>\n",
       "      <th>Open</th>\n",
       "      <th>High</th>\n",
       "      <th>Low</th>\n",
       "      <th>Last</th>\n",
       "      <th>Close</th>\n",
       "      <th>VWAP</th>\n",
       "      <th>Volume</th>\n",
       "      <th>Turnover</th>\n",
       "      <th>Deliverable Volume</th>\n",
       "      <th>%Deliverble</th>\n",
       "    </tr>\n",
       "    <tr>\n",
       "      <th>Date</th>\n",
       "      <th></th>\n",
       "      <th></th>\n",
       "      <th></th>\n",
       "      <th></th>\n",
       "      <th></th>\n",
       "      <th></th>\n",
       "      <th></th>\n",
       "      <th></th>\n",
       "      <th></th>\n",
       "      <th></th>\n",
       "      <th></th>\n",
       "      <th></th>\n",
       "      <th></th>\n",
       "    </tr>\n",
       "  </thead>\n",
       "  <tbody>\n",
       "    <tr>\n",
       "      <th>2008-05-26</th>\n",
       "      <td>BAJAJFINSV</td>\n",
       "      <td>EQ</td>\n",
       "      <td>2101.05</td>\n",
       "      <td>600.00</td>\n",
       "      <td>619.00</td>\n",
       "      <td>501.0</td>\n",
       "      <td>505.1</td>\n",
       "      <td>509.10</td>\n",
       "      <td>548.85</td>\n",
       "      <td>3145446</td>\n",
       "      <td>1.726368e+14</td>\n",
       "      <td>908264</td>\n",
       "      <td>0.2888</td>\n",
       "    </tr>\n",
       "    <tr>\n",
       "      <th>2008-05-27</th>\n",
       "      <td>BAJAJFINSV</td>\n",
       "      <td>EQ</td>\n",
       "      <td>509.10</td>\n",
       "      <td>505.00</td>\n",
       "      <td>610.95</td>\n",
       "      <td>491.1</td>\n",
       "      <td>564.0</td>\n",
       "      <td>554.65</td>\n",
       "      <td>572.15</td>\n",
       "      <td>4349144</td>\n",
       "      <td>2.488370e+14</td>\n",
       "      <td>677627</td>\n",
       "      <td>0.1558</td>\n",
       "    </tr>\n",
       "    <tr>\n",
       "      <th>2008-05-28</th>\n",
       "      <td>BAJAJFINSV</td>\n",
       "      <td>EQ</td>\n",
       "      <td>554.65</td>\n",
       "      <td>564.00</td>\n",
       "      <td>665.60</td>\n",
       "      <td>564.0</td>\n",
       "      <td>643.0</td>\n",
       "      <td>640.95</td>\n",
       "      <td>618.37</td>\n",
       "      <td>4588759</td>\n",
       "      <td>2.837530e+14</td>\n",
       "      <td>774895</td>\n",
       "      <td>0.1689</td>\n",
       "    </tr>\n",
       "    <tr>\n",
       "      <th>2008-05-29</th>\n",
       "      <td>BAJAJFINSV</td>\n",
       "      <td>EQ</td>\n",
       "      <td>640.95</td>\n",
       "      <td>656.65</td>\n",
       "      <td>703.00</td>\n",
       "      <td>608.0</td>\n",
       "      <td>634.5</td>\n",
       "      <td>632.40</td>\n",
       "      <td>659.60</td>\n",
       "      <td>4522302</td>\n",
       "      <td>2.982921e+14</td>\n",
       "      <td>1006161</td>\n",
       "      <td>0.2225</td>\n",
       "    </tr>\n",
       "    <tr>\n",
       "      <th>2008-05-30</th>\n",
       "      <td>BAJAJFINSV</td>\n",
       "      <td>EQ</td>\n",
       "      <td>632.40</td>\n",
       "      <td>642.40</td>\n",
       "      <td>668.00</td>\n",
       "      <td>588.3</td>\n",
       "      <td>647.0</td>\n",
       "      <td>644.00</td>\n",
       "      <td>636.41</td>\n",
       "      <td>3057669</td>\n",
       "      <td>1.945929e+14</td>\n",
       "      <td>462832</td>\n",
       "      <td>0.1514</td>\n",
       "    </tr>\n",
       "  </tbody>\n",
       "</table>\n",
       "</div>"
      ],
      "text/plain": [
       "                Symbol Series  Prev Close    Open    High    Low   Last  \\\n",
       "Date                                                                      \n",
       "2008-05-26  BAJAJFINSV     EQ     2101.05  600.00  619.00  501.0  505.1   \n",
       "2008-05-27  BAJAJFINSV     EQ      509.10  505.00  610.95  491.1  564.0   \n",
       "2008-05-28  BAJAJFINSV     EQ      554.65  564.00  665.60  564.0  643.0   \n",
       "2008-05-29  BAJAJFINSV     EQ      640.95  656.65  703.00  608.0  634.5   \n",
       "2008-05-30  BAJAJFINSV     EQ      632.40  642.40  668.00  588.3  647.0   \n",
       "\n",
       "             Close    VWAP   Volume      Turnover  Deliverable Volume  \\\n",
       "Date                                                                    \n",
       "2008-05-26  509.10  548.85  3145446  1.726368e+14              908264   \n",
       "2008-05-27  554.65  572.15  4349144  2.488370e+14              677627   \n",
       "2008-05-28  640.95  618.37  4588759  2.837530e+14              774895   \n",
       "2008-05-29  632.40  659.60  4522302  2.982921e+14             1006161   \n",
       "2008-05-30  644.00  636.41  3057669  1.945929e+14              462832   \n",
       "\n",
       "            %Deliverble  \n",
       "Date                     \n",
       "2008-05-26       0.2888  \n",
       "2008-05-27       0.1558  \n",
       "2008-05-28       0.1689  \n",
       "2008-05-29       0.2225  \n",
       "2008-05-30       0.1514  "
      ]
     },
     "execution_count": 11,
     "metadata": {},
     "output_type": "execute_result"
    }
   ],
   "source": [
    "dataframe.head()"
   ]
  },
  {
   "cell_type": "code",
   "execution_count": 12,
   "id": "0c8e0f26-9608-43a2-bf55-9edaa9cf3fea",
   "metadata": {},
   "outputs": [
    {
     "data": {
      "text/plain": [
       "Symbol                0\n",
       "Series                0\n",
       "Prev Close            0\n",
       "Open                  0\n",
       "High                  0\n",
       "Low                   0\n",
       "Last                  0\n",
       "Close                 0\n",
       "VWAP                  0\n",
       "Volume                0\n",
       "Turnover              0\n",
       "Deliverable Volume    0\n",
       "%Deliverble           0\n",
       "dtype: int64"
      ]
     },
     "execution_count": 12,
     "metadata": {},
     "output_type": "execute_result"
    }
   ],
   "source": [
    "dataframe.isnull().sum()"
   ]
  },
  {
   "cell_type": "code",
   "execution_count": 13,
   "id": "756eb93e-5d10-4901-9a3b-69790f8e66ce",
   "metadata": {},
   "outputs": [
    {
     "data": {
      "text/plain": [
       "False    3201\n",
       "Name: count, dtype: int64"
      ]
     },
     "execution_count": 13,
     "metadata": {},
     "output_type": "execute_result"
    }
   ],
   "source": [
    "dataframe.duplicated().value_counts()"
   ]
  },
  {
   "cell_type": "code",
   "execution_count": 14,
   "id": "79cc585e-6690-4123-bde3-3bfe58699961",
   "metadata": {},
   "outputs": [
    {
     "data": {
      "text/plain": [
       "Symbol                 object\n",
       "Series                 object\n",
       "Prev Close            float64\n",
       "Open                  float64\n",
       "High                  float64\n",
       "Low                   float64\n",
       "Last                  float64\n",
       "Close                 float64\n",
       "VWAP                  float64\n",
       "Volume                  int64\n",
       "Turnover              float64\n",
       "Deliverable Volume      int64\n",
       "%Deliverble           float64\n",
       "dtype: object"
      ]
     },
     "execution_count": 14,
     "metadata": {},
     "output_type": "execute_result"
    }
   ],
   "source": [
    "dataframe.dtypes"
   ]
  },
  {
   "cell_type": "code",
   "execution_count": 15,
   "id": "562b5fa3-3c96-4329-b1e3-4246b90b170f",
   "metadata": {},
   "outputs": [
    {
     "data": {
      "text/plain": [
       "Index(['Symbol', 'Series', 'Prev Close', 'Open', 'High', 'Low', 'Last',\n",
       "       'Close', 'VWAP', 'Volume', 'Turnover', 'Deliverable Volume',\n",
       "       '%Deliverble'],\n",
       "      dtype='object')"
      ]
     },
     "execution_count": 15,
     "metadata": {},
     "output_type": "execute_result"
    }
   ],
   "source": [
    "dataframe.columns"
   ]
  },
  {
   "cell_type": "code",
   "execution_count": 16,
   "id": "166e8052-5941-4569-8c8c-5b8d10706ec4",
   "metadata": {},
   "outputs": [
    {
     "data": {
      "text/plain": [
       "<Axes: xlabel='Date'>"
      ]
     },
     "execution_count": 16,
     "metadata": {},
     "output_type": "execute_result"
    },
    {
     "data": {
      "image/png": "[encoded data removed]",
      "text/plain": [
       "<Figure size 800x600 with 1 Axes>"
      ]
     },
     "metadata": {},
     "output_type": "display_data"
    }
   ],
   "source": [
    "data['VWAP'].plot(figsize=(8,6))"
   ]
  },
  {
   "cell_type": "code",
   "execution_count": 17,
   "id": "72de3fe6-edf1-4f27-92e5-edb587dcc875",
   "metadata": {},
   "outputs": [
    {
     "data": {
      "text/plain": [
       "<Axes: xlabel='VWAP', ylabel='Count'>"
      ]
     },
     "execution_count": 17,
     "metadata": {},
     "output_type": "execute_result"
    },
    {
     "data": {
      "image/png": "[encoded data removed]",
      "text/plain": [
       "<Figure size 640x480 with 1 Axes>"
      ]
     },
     "metadata": {},
     "output_type": "display_data"
    }
   ],
   "source": [
    "sns.histplot(data=dataframe,x='VWAP')"
   ]
  },
  {
   "cell_type": "code",
   "execution_count": null,
   "id": "75a3a6da-f20b-4fd2-8019-3af6ccd8b270",
   "metadata": {},
   "outputs": [],
   "source": []
  },
  {
   "cell_type": "code",
   "execution_count": 18,
   "id": "56bcd962-3ddf-4cf1-9639-86a94db85640",
   "metadata": {},
   "outputs": [
    {
     "data": {
      "text/plain": [
       "<Axes: xlabel='VWAP', ylabel='Density'>"
      ]
     },
     "execution_count": 18,
     "metadata": {},
     "output_type": "execute_result"
    },
    {
     "data": {
      "image/png": "[encoded data removed]",
      "text/plain": [
       "<Figure size 640x480 with 1 Axes>"
      ]
     },
     "metadata": {},
     "output_type": "display_data"
    }
   ],
   "source": [
    "sns.kdeplot(data=dataframe,x='VWAP',fill=True)"
   ]
  },
  {
   "cell_type": "code",
   "execution_count": 19,
   "id": "1eeea0e3-1430-4281-8430-a680ff047a1b",
   "metadata": {},
   "outputs": [
    {
     "data": {
      "text/plain": [
       "((array([-3.51908695, -3.27647555, -3.14237236, ...,  3.14237236,\n",
       "          3.27647555,  3.51908695], shape=(3201,)),\n",
       "  array([   89.26,    93.99,    94.79, ..., 10486.75, 10980.4 , 11081.78],\n",
       "        shape=(3201,))),\n",
       " (np.float64(2583.5304104028073),\n",
       "  np.float64(2761.156954076851),\n",
       "  np.float64(0.8981685068494002)))"
      ]
     },
     "execution_count": 19,
     "metadata": {},
     "output_type": "execute_result"
    },
    {
     "data": {
      "image/png": "[encoded data removed]",
      "text/plain": [
       "<Figure size 640x480 with 1 Axes>"
      ]
     },
     "metadata": {},
     "output_type": "display_data"
    }
   ],
   "source": [
    "stats.probplot(x=dataframe['VWAP'], plot=plt)"
   ]
  },
  {
   "cell_type": "code",
   "execution_count": 20,
   "id": "92f47980-fbe6-4d6d-a51e-a59157b49f81",
   "metadata": {},
   "outputs": [
    {
     "data": {
      "text/plain": [
       "Index(['Symbol', 'Series', 'Prev Close', 'Open', 'High', 'Low', 'Last',\n",
       "       'Close', 'VWAP', 'Volume', 'Turnover', 'Deliverable Volume',\n",
       "       '%Deliverble'],\n",
       "      dtype='object')"
      ]
     },
     "execution_count": 20,
     "metadata": {},
     "output_type": "execute_result"
    }
   ],
   "source": [
    "dataframe.columns"
   ]
  },
  {
   "cell_type": "code",
   "execution_count": 21,
   "id": "f423c44e-e170-4eae-bbd3-2c789eb6a0c7",
   "metadata": {},
   "outputs": [],
   "source": [
    "col=['Open', 'High', 'Low','Close']"
   ]
  },
  {
   "cell_type": "code",
   "execution_count": 22,
   "id": "c0494875-c0f6-436e-9336-2437de978055",
   "metadata": {},
   "outputs": [
    {
     "data": {
      "text/plain": [
       "array([<Axes: xlabel='Date'>, <Axes: xlabel='Date'>,\n",
       "       <Axes: xlabel='Date'>, <Axes: xlabel='Date'>], dtype=object)"
      ]
     },
     "execution_count": 22,
     "metadata": {},
     "output_type": "execute_result"
    },
    {
     "data": {
      "image/png": "[encoded data removed]",
      "text/plain": [
       "<Figure size 1100x900 with 4 Axes>"
      ]
     },
     "metadata": {},
     "output_type": "display_data"
    }
   ],
   "source": [
    "dataframe[col].plot(subplots=True,figsize=(11,9))"
   ]
  },
  {
   "cell_type": "code",
   "execution_count": null,
   "id": "f956426a-d6c7-449e-90fc-5f143ce7bfc2",
   "metadata": {},
   "outputs": [],
   "source": []
  },
  {
   "cell_type": "code",
   "execution_count": 23,
   "id": "6d682b57-b8e0-4854-88a4-d52f100a1002",
   "metadata": {},
   "outputs": [],
   "source": [
    "fig=go.Figure(data=[go.Candlestick(x=dataframe.index[0:50],\n",
    "                              open=dataframe['Open'][0:50],\n",
    "                              high=dataframe['High'][0:50],\n",
    "                              low=dataframe['Low'][0:50],\n",
    "                              close=dataframe['Close'][0:50])])"
   ]
  },
  {
   "cell_type": "code",
   "execution_count": 24,
   "id": "43f61181-b152-496d-9773-2f8432d7b046",
   "metadata": {},
   "outputs": [
    {
     "data": {
      "application/vnd.plotly.v1+json": {
       "config": {
        "plotlyServerURL": "https://plot.ly"
       },
       "data": [
        {
         "close": {
          "bdata": "mpmZmZnRf0AzMzMzM1WBQJqZmZmZB4RAMzMzMzPDg0AAAAAAACCEQJqZmZmZd4VAZmZmZmYAhUCamZmZmbeCQM3MzMzMvoNAMzMzMzO3g0AzMzMzM6+DQAAAAAAA6oRAAAAAAABshEAzMzMzM++CQGZmZmZmJoJAZmZmZmYwg0BmZmZmZhiDQJqZmZmZf4JAzczMzMweg0CamZmZmVeBQDMzMzMzq4FAMzMzMzMpgUDNzMzMzAiCQAAAAAAAcoJAAAAAAACQgUDNzMzMzM6AQAAAAAAALoBAZmZmZmZUgEAAAAAAAOh9QDMzMzMzO39AZmZmZmZOgEAzMzMzM+9/QGZmZmZmMIBAzczMzMysf0AzMzMzM+99QGZmZmZm3nxAAAAAAAAIfEAzMzMzM496QAAAAAAAXHpAMzMzMzOreUAzMzMzM6t5QAAAAAAAQHpAmpmZmZlde0BmZmZmZjZ8QAAAAAAA5HtAzczMzMxAe0CamZmZmd16QM3MzMzMWHtAZmZmZmaqe0AAAAAAALB7QA==",
          "dtype": "f8"
         },
         "high": {
          "bdata": "AAAAAABYg0CamZmZmReDQM3MzMzMzIRAAAAAAAD4hUAAAAAAAOCEQAAAAAAA2IVAZmZmZmaOhUAAAAAAABCFQGZmZmZm/oNAMzMzMzMXhEAAAAAAAECEQAAAAAAAGIVAAAAAAABQhUCamZmZmfODQAAAAAAAhINAAAAAAABQg0AAAAAAAJCDQJqZmZmZSYNAAAAAAACIg0AAAAAAAFKDQDMzMzMz/4FAAAAAAADggUAAAAAAAMSDQAAAAAAAwIJAAAAAAABIgkAAAAAAANCBQDMzMzMzx4BAAAAAAACQgEDNzMzMzA6AQAAAAAAAQH9AAAAAAAAAgUAAAAAAADCAQAAAAAAAMIFAzczMzMw+gEAAAAAAAECAQAAAAAAAIH9AAAAAAADwfEAzMzMzMz98QAAAAAAAcHtAAAAAAADAekCamZmZmVl6QDMzMzMzj3pAMzMzMzMffEAAAAAAAAh+QAAAAAAAcHxAAAAAAABAfEAAAAAAADB7QAAAAAAAqHtAAAAAAADwe0BmZmZmZh58QA==",
          "dtype": "f8"
         },
         "low": {
          "bdata": "AAAAAABQf0CamZmZmbF+QAAAAAAAoIFAAAAAAAAAg0BmZmZmZmKCQAAAAAAAcINAZmZmZmbEg0DNzMzMzLSBQGZmZmZm4oFAZmZmZmYAg0AAAAAAACCCQAAAAAAAUINAzczMzMwIhEAAAAAAAMiCQAAAAAAA5oFAAAAAAABagkDNzMzMzOiCQM3MzMzMSIJAZmZmZmYQgkAAAAAAAKCAQAAAAAAAMIFAAAAAAADIgEAAAAAAAOCAQAAAAAAAEIJAAAAAAAAwgUAAAAAAAECAQGZmZmZman9AAAAAAADwfkAAAAAAAOB7QAAAAAAA8HtAZmZmZmbqfkDNzMzMzLx9QAAAAAAAAIBAAAAAAABAf0BmZmZmZip9QAAAAAAAcHxAzczMzMxAe0AAAAAAABh6QJqZmZmZ8XlAzczMzMxAeECamZmZmYF5QJqZmZmZJXlAzczMzMzAekAAAAAAAHB7QAAAAAAAQHtAzczMzMwAe0AAAAAAAKB6QGZmZmZmhnlAAAAAAADQekAAAAAAAHB6QA==",
          "dtype": "f8"
         },
         "open": {
          "bdata": "AAAAAADAgkAAAAAAAJB/QAAAAAAAoIFAMzMzMzOFhEAzMzMzMxOEQAAAAAAAUIRAAAAAAAAAhUAAAAAAABCFQAAAAAAA2IJAAAAAAAD6g0AAAAAAAGCDQAAAAAAAUINAAAAAAAAAhUAAAAAAAKiDQAAAAAAA+IJAAAAAAACYgkAAAAAAABCDQAAAAAAAOINAAAAAAAAggkAAAAAAANiCQAAAAAAAOIFAAAAAAACsgUAAAAAAAPCAQAAAAAAAEIJAAAAAAABIgkAAAAAAAKiBQAAAAAAAuIBAAAAAAADwf0AzMzMzM/N+QJqZmZmZdX1AZmZmZmbqfkDNzMzMzLx9QAAAAAAAMIFAAAAAAAAYgEAzMzMzMz+AQAAAAAAAIH9AAAAAAADwe0AAAAAAAIB7QAAAAAAAcHtAmpmZmZlVeUAAAAAAALB5QJqZmZmZJXlAAAAAAAAQe0AAAAAAAHB7QAAAAAAAQHtAAAAAAABQe0AAAAAAADB7QGZmZmZmhnlAAAAAAADQekAAAAAAAOB6QA==",
          "dtype": "f8"
         },
         "type": "candlestick",
         "x": [
          "2008-05-26",
          "2008-05-27",
          "2008-05-28",
          "2008-05-29",
          "2008-05-30",
          "2008-06-02",
          "2008-06-03",
          "2008-06-04",
          "2008-06-05",
          "2008-06-06",
          "2008-06-09",
          "2008-06-10",
          "2008-06-11",
          "2008-06-12",
          "2008-06-13",
          "2008-06-16",
          "2008-06-17",
          "2008-06-18",
          "2008-06-19",
          "2008-06-20",
          "2008-06-23",
          "2008-06-24",
          "2008-06-25",
          "2008-06-26",
          "2008-06-27",
          "2008-06-30",
          "2008-07-01",
          "2008-07-02",
          "2008-07-03",
          "2008-07-04",
          "2008-07-07",
          "2008-07-08",
          "2008-07-09",
          "2008-07-10",
          "2008-07-11",
          "2008-07-14",
          "2008-07-15",
          "2008-07-16",
          "2008-07-17",
          "2008-07-18",
          "2008-07-21",
          "2008-07-22",
          "2008-07-23",
          "2008-07-24",
          "2008-07-25",
          "2008-07-28",
          "2008-07-29",
          "2008-07-30",
          "2008-07-31",
          "2008-08-01"
         ]
        }
       ],
       "layout": {
        "template": {
         "data": {
          "bar": [
           {
            "error_x": {
             "color": "#2a3f5f"
            },
            "error_y": {
             "color": "#2a3f5f"
            },
            "marker": {
             "line": {
              "color": "#E5ECF6",
              "width": 0.5
             },
             "pattern": {
              "fillmode": "overlay",
              "size": 10,
              "solidity": 0.2
             }
            },
            "type": "bar"
           }
          ],
          "barpolar": [
           {
            "marker": {
             "line": {
              "color": "#E5ECF6",
              "width": 0.5
             },
             "pattern": {
              "fillmode": "overlay",
              "size": 10,
              "solidity": 0.2
             }
            },
            "type": "barpolar"
           }
          ],
          "carpet": [
           {
            "aaxis": {
             "endlinecolor": "#2a3f5f",
             "gridcolor": "white",
             "linecolor": "white",
             "minorgridcolor": "white",
             "startlinecolor": "#2a3f5f"
            },
            "baxis": {
             "endlinecolor": "#2a3f5f",
             "gridcolor": "white",
             "linecolor": "white",
             "minorgridcolor": "white",
             "startlinecolor": "#2a3f5f"
            },
            "type": "carpet"
           }
          ],
          "choropleth": [
           {
            "colorbar": {
             "outlinewidth": 0,
             "ticks": ""
            },
            "type": "choropleth"
           }
          ],
          "contour": [
           {
            "colorbar": {
             "outlinewidth": 0,
             "ticks": ""
            },
            "colorscale": [
             [
              0,
              "#0d0887"
             ],
             [
              0.1111111111111111,
              "#46039f"
             ],
             [
              0.2222222222222222,
              "#7201a8"
             ],
             [
              0.3333333333333333,
              "#9c179e"
             ],
             [
              0.4444444444444444,
              "#bd3786"
             ],
             [
              0.5555555555555556,
              "#d8576b"
             ],
             [
              0.6666666666666666,
              "#ed7953"
             ],
             [
              0.7777777777777778,
              "#fb9f3a"
             ],
             [
              0.8888888888888888,
              "#fdca26"
             ],
             [
              1,
              "#f0f921"
             ]
            ],
            "type": "contour"
           }
          ],
          "contourcarpet": [
           {
            "colorbar": {
             "outlinewidth": 0,
             "ticks": ""
            },
            "type": "contourcarpet"
           }
          ],
          "heatmap": [
           {
            "colorbar": {
             "outlinewidth": 0,
             "ticks": ""
            },
            "colorscale": [
             [
              0,
              "#0d0887"
             ],
             [
              0.1111111111111111,
              "#46039f"
             ],
             [
              0.2222222222222222,
              "#7201a8"
             ],
             [
              0.3333333333333333,
              "#9c179e"
             ],
             [
              0.4444444444444444,
              "#bd3786"
             ],
             [
              0.5555555555555556,
              "#d8576b"
             ],
             [
              0.6666666666666666,
              "#ed7953"
             ],
             [
              0.7777777777777778,
              "#fb9f3a"
             ],
             [
              0.8888888888888888,
              "#fdca26"
             ],
             [
              1,
              "#f0f921"
             ]
            ],
            "type": "heatmap"
           }
          ],
          "histogram": [
           {
            "marker": {
             "pattern": {
              "fillmode": "overlay",
              "size": 10,
              "solidity": 0.2
             }
            },
            "type": "histogram"
           }
          ],
          "histogram2d": [
           {
            "colorbar": {
             "outlinewidth": 0,
             "ticks": ""
            },
            "colorscale": [
             [
              0,
              "#0d0887"
             ],
             [
              0.1111111111111111,
              "#46039f"
             ],
             [
              0.2222222222222222,
              "#7201a8"
             ],
             [
              0.3333333333333333,
              "#9c179e"
             ],
             [
              0.4444444444444444,
              "#bd3786"
             ],
             [
              0.5555555555555556,
              "#d8576b"
             ],
             [
              0.6666666666666666,
              "#ed7953"
             ],
             [
              0.7777777777777778,
              "#fb9f3a"
             ],
             [
              0.8888888888888888,
              "#fdca26"
             ],
             [
              1,
              "#f0f921"
             ]
            ],
            "type": "histogram2d"
           }
          ],
          "histogram2dcontour": [
           {
            "colorbar": {
             "outlinewidth": 0,
             "ticks": ""
            },
            "colorscale": [
             [
              0,
              "#0d0887"
             ],
             [
              0.1111111111111111,
              "#46039f"
             ],
             [
              0.2222222222222222,
              "#7201a8"
             ],
             [
              0.3333333333333333,
              "#9c179e"
             ],
             [
              0.4444444444444444,
              "#bd3786"
             ],
             [
              0.5555555555555556,
              "#d8576b"
             ],
             [
              0.6666666666666666,
              "#ed7953"
             ],
             [
              0.7777777777777778,
              "#fb9f3a"
             ],
             [
              0.8888888888888888,
              "#fdca26"
             ],
             [
              1,
              "#f0f921"
             ]
            ],
            "type": "histogram2dcontour"
           }
          ],
          "mesh3d": [
           {
            "colorbar": {
             "outlinewidth": 0,
             "ticks": ""
            },
            "type": "mesh3d"
           }
          ],
          "parcoords": [
           {
            "line": {
             "colorbar": {
              "outlinewidth": 0,
              "ticks": ""
             }
            },
            "type": "parcoords"
           }
          ],
          "pie": [
           {
            "automargin": true,
            "type": "pie"
           }
          ],
          "scatter": [
           {
            "fillpattern": {
             "fillmode": "overlay",
             "size": 10,
             "solidity": 0.2
            },
            "type": "scatter"
           }
          ],
          "scatter3d": [
           {
            "line": {
             "colorbar": {
              "outlinewidth": 0,
              "ticks": ""
             }
            },
            "marker": {
             "colorbar": {
              "outlinewidth": 0,
              "ticks": ""
             }
            },
            "type": "scatter3d"
           }
          ],
          "scattercarpet": [
           {
            "marker": {
             "colorbar": {
              "outlinewidth": 0,
              "ticks": ""
             }
            },
            "type": "scattercarpet"
           }
          ],
          "scattergeo": [
           {
            "marker": {
             "colorbar": {
              "outlinewidth": 0,
              "ticks": ""
             }
            },
            "type": "scattergeo"
           }
          ],
          "scattergl": [
           {
            "marker": {
             "colorbar": {
              "outlinewidth": 0,
              "ticks": ""
             }
            },
            "type": "scattergl"
           }
          ],
          "scattermap": [
           {
            "marker": {
             "colorbar": {
              "outlinewidth": 0,
              "ticks": ""
             }
            },
            "type": "scattermap"
           }
          ],
          "scattermapbox": [
           {
            "marker": {
             "colorbar": {
              "outlinewidth": 0,
              "ticks": ""
             }
            },
            "type": "scattermapbox"
           }
          ],
          "scatterpolar": [
           {
            "marker": {
             "colorbar": {
              "outlinewidth": 0,
              "ticks": ""
             }
            },
            "type": "scatterpolar"
           }
          ],
          "scatterpolargl": [
           {
            "marker": {
             "colorbar": {
              "outlinewidth": 0,
              "ticks": ""
             }
            },
            "type": "scatterpolargl"
           }
          ],
          "scatterternary": [
           {
            "marker": {
             "colorbar": {
              "outlinewidth": 0,
              "ticks": ""
             }
            },
            "type": "scatterternary"
           }
          ],
          "surface": [
           {
            "colorbar": {
             "outlinewidth": 0,
             "ticks": ""
            },
            "colorscale": [
             [
              0,
              "#0d0887"
             ],
             [
              0.1111111111111111,
              "#46039f"
             ],
             [
              0.2222222222222222,
              "#7201a8"
             ],
             [
              0.3333333333333333,
              "#9c179e"
             ],
             [
              0.4444444444444444,
              "#bd3786"
             ],
             [
              0.5555555555555556,
              "#d8576b"
             ],
             [
              0.6666666666666666,
              "#ed7953"
             ],
             [
              0.7777777777777778,
              "#fb9f3a"
             ],
             [
              0.8888888888888888,
              "#fdca26"
             ],
             [
              1,
              "#f0f921"
             ]
            ],
            "type": "surface"
           }
          ],
          "table": [
           {
            "cells": {
             "fill": {
              "color": "#EBF0F8"
             },
             "line": {
              "color": "white"
             }
            },
            "header": {
             "fill": {
              "color": "#C8D4E3"
             },
             "line": {
              "color": "white"
             }
            },
            "type": "table"
           }
          ]
         },
         "layout": {
          "annotationdefaults": {
           "arrowcolor": "#2a3f5f",
           "arrowhead": 0,
           "arrowwidth": 1
          },
          "autotypenumbers": "strict",
          "coloraxis": {
           "colorbar": {
            "outlinewidth": 0,
            "ticks": ""
           }
          },
          "colorscale": {
           "diverging": [
            [
             0,
             "#8e0152"
            ],
            [
             0.1,
             "#c51b7d"
            ],
            [
             0.2,
             "#de77ae"
            ],
            [
             0.3,
             "#f1b6da"
            ],
            [
             0.4,
             "#fde0ef"
            ],
            [
             0.5,
             "#f7f7f7"
            ],
            [
             0.6,
             "#e6f5d0"
            ],
            [
             0.7,
             "#b8e186"
            ],
            [
             0.8,
             "#7fbc41"
            ],
            [
             0.9,
             "#4d9221"
            ],
            [
             1,
             "#276419"
            ]
           ],
           "sequential": [
            [
             0,
             "#0d0887"
            ],
            [
             0.1111111111111111,
             "#46039f"
            ],
            [
             0.2222222222222222,
             "#7201a8"
            ],
            [
             0.3333333333333333,
             "#9c179e"
            ],
            [
             0.4444444444444444,
             "#bd3786"
            ],
            [
             0.5555555555555556,
             "#d8576b"
            ],
            [
             0.6666666666666666,
             "#ed7953"
            ],
            [
             0.7777777777777778,
             "#fb9f3a"
            ],
            [
             0.8888888888888888,
             "#fdca26"
            ],
            [
             1,
             "#f0f921"
            ]
           ],
           "sequentialminus": [
            [
             0,
             "#0d0887"
            ],
            [
             0.1111111111111111,
             "#46039f"
            ],
            [
             0.2222222222222222,
             "#7201a8"
            ],
            [
             0.3333333333333333,
             "#9c179e"
            ],
            [
             0.4444444444444444,
             "#bd3786"
            ],
            [
             0.5555555555555556,
             "#d8576b"
            ],
            [
             0.6666666666666666,
             "#ed7953"
            ],
            [
             0.7777777777777778,
             "#fb9f3a"
            ],
            [
             0.8888888888888888,
             "#fdca26"
            ],
            [
             1,
             "#f0f921"
            ]
           ]
          },
          "colorway": [
           "#636efa",
           "#EF553B",
           "#00cc96",
           "#ab63fa",
           "#FFA15A",
           "#19d3f3",
           "#FF6692",
           "#B6E880",
           "#FF97FF",
           "#FECB52"
          ],
          "font": {
           "color": "#2a3f5f"
          },
          "geo": {
           "bgcolor": "white",
           "lakecolor": "white",
           "landcolor": "#E5ECF6",
           "showlakes": true,
           "showland": true,
           "subunitcolor": "white"
          },
          "hoverlabel": {
           "align": "left"
          },
          "hovermode": "closest",
          "mapbox": {
           "style": "light"
          },
          "paper_bgcolor": "white",
          "plot_bgcolor": "#E5ECF6",
          "polar": {
           "angularaxis": {
            "gridcolor": "white",
            "linecolor": "white",
            "ticks": ""
           },
           "bgcolor": "#E5ECF6",
           "radialaxis": {
            "gridcolor": "white",
            "linecolor": "white",
            "ticks": ""
           }
          },
          "scene": {
           "xaxis": {
            "backgroundcolor": "#E5ECF6",
            "gridcolor": "white",
            "gridwidth": 2,
            "linecolor": "white",
            "showbackground": true,
            "ticks": "",
            "zerolinecolor": "white"
           },
           "yaxis": {
            "backgroundcolor": "#E5ECF6",
            "gridcolor": "white",
            "gridwidth": 2,
            "linecolor": "white",
            "showbackground": true,
            "ticks": "",
            "zerolinecolor": "white"
           },
           "zaxis": {
            "backgroundcolor": "#E5ECF6",
            "gridcolor": "white",
            "gridwidth": 2,
            "linecolor": "white",
            "showbackground": true,
            "ticks": "",
            "zerolinecolor": "white"
           }
          },
          "shapedefaults": {
           "line": {
            "color": "#2a3f5f"
           }
          },
          "ternary": {
           "aaxis": {
            "gridcolor": "white",
            "linecolor": "white",
            "ticks": ""
           },
           "baxis": {
            "gridcolor": "white",
            "linecolor": "white",
            "ticks": ""
           },
           "bgcolor": "#E5ECF6",
           "caxis": {
            "gridcolor": "white",
            "linecolor": "white",
            "ticks": ""
           }
          },
          "title": {
           "x": 0.05
          },
          "xaxis": {
           "automargin": true,
           "gridcolor": "white",
           "linecolor": "white",
           "ticks": "",
           "title": {
            "standoff": 15
           },
           "zerolinecolor": "white",
           "zerolinewidth": 2
          },
          "yaxis": {
           "automargin": true,
           "gridcolor": "white",
           "linecolor": "white",
           "ticks": "",
           "title": {
            "standoff": 15
           },
           "zerolinecolor": "white",
           "zerolinewidth": 2
          }
         }
        },
        "xaxis": {
         "rangeslider": {
          "visible": false
         }
        }
       }
      }
     },
     "metadata": {},
     "output_type": "display_data"
    }
   ],
   "source": [
    "fig.update_layout(xaxis_rangeslider_visible=False)"
   ]
  },
  {
   "cell_type": "code",
   "execution_count": 25,
   "id": "82342e7d-78f5-4870-b3c3-d8c31090a330",
   "metadata": {},
   "outputs": [],
   "source": [
    "lag_features=['High','Low','Volume','Turnover']\n",
    "window1=3\n",
    "window2=7"
   ]
  },
  {
   "cell_type": "code",
   "execution_count": 26,
   "id": "ed9009a1-659f-4d7d-90f9-2276bfd5468f",
   "metadata": {},
   "outputs": [
    {
     "data": {
      "text/plain": [
       "Date\n",
       "2008-05-26             NaN\n",
       "2008-05-27             NaN\n",
       "2008-05-28      631.850000\n",
       "2008-05-29      659.850000\n",
       "2008-05-30      678.866667\n",
       "                  ...     \n",
       "2021-04-26    10059.766667\n",
       "2021-04-27    10133.466667\n",
       "2021-04-28    10291.316667\n",
       "2021-04-29    10682.983333\n",
       "2021-04-30    11046.983333\n",
       "Name: High, Length: 3201, dtype: float64"
      ]
     },
     "execution_count": 26,
     "metadata": {},
     "output_type": "execute_result"
    }
   ],
   "source": [
    "dataframe['High'].rolling(window=3).mean()"
   ]
  },
  {
   "cell_type": "code",
   "execution_count": 27,
   "id": "dca31e88-6381-4351-9c9f-df8c714b5e7a",
   "metadata": {},
   "outputs": [],
   "source": [
    "for col in lag_features:\n",
    "    dataframe[col+\"rolling_mean_3\"]=dataframe[col].rolling(window=window1).mean()\n",
    "    dataframe[col+\"rolling_mean_7\"]=dataframe[col].rolling(window=window2).mean()"
   ]
  },
  {
   "cell_type": "code",
   "execution_count": 28,
   "id": "634d0415-206f-4599-bf17-40b9048e7743",
   "metadata": {},
   "outputs": [
    {
     "data": {
      "text/html": [
       "<div>\n",
       "<style scoped>\n",
       "    .dataframe tbody tr th:only-of-type {\n",
       "        vertical-align: middle;\n",
       "    }\n",
       "\n",
       "    .dataframe tbody tr th {\n",
       "        vertical-align: top;\n",
       "    }\n",
       "\n",
       "    .dataframe thead th {\n",
       "        text-align: right;\n",
       "    }\n",
       "</style>\n",
       "<table border=\"1\" class=\"dataframe\">\n",
       "  <thead>\n",
       "    <tr style=\"text-align: right;\">\n",
       "      <th></th>\n",
       "      <th>Symbol</th>\n",
       "      <th>Series</th>\n",
       "      <th>Prev Close</th>\n",
       "      <th>Open</th>\n",
       "      <th>High</th>\n",
       "      <th>Low</th>\n",
       "      <th>Last</th>\n",
       "      <th>Close</th>\n",
       "      <th>VWAP</th>\n",
       "      <th>Volume</th>\n",
       "      <th>...</th>\n",
       "      <th>Deliverable Volume</th>\n",
       "      <th>%Deliverble</th>\n",
       "      <th>Highrolling_mean_3</th>\n",
       "      <th>Highrolling_mean_7</th>\n",
       "      <th>Lowrolling_mean_3</th>\n",
       "      <th>Lowrolling_mean_7</th>\n",
       "      <th>Volumerolling_mean_3</th>\n",
       "      <th>Volumerolling_mean_7</th>\n",
       "      <th>Turnoverrolling_mean_3</th>\n",
       "      <th>Turnoverrolling_mean_7</th>\n",
       "    </tr>\n",
       "    <tr>\n",
       "      <th>Date</th>\n",
       "      <th></th>\n",
       "      <th></th>\n",
       "      <th></th>\n",
       "      <th></th>\n",
       "      <th></th>\n",
       "      <th></th>\n",
       "      <th></th>\n",
       "      <th></th>\n",
       "      <th></th>\n",
       "      <th></th>\n",
       "      <th></th>\n",
       "      <th></th>\n",
       "      <th></th>\n",
       "      <th></th>\n",
       "      <th></th>\n",
       "      <th></th>\n",
       "      <th></th>\n",
       "      <th></th>\n",
       "      <th></th>\n",
       "      <th></th>\n",
       "      <th></th>\n",
       "    </tr>\n",
       "  </thead>\n",
       "  <tbody>\n",
       "    <tr>\n",
       "      <th>2008-05-26</th>\n",
       "      <td>BAJAJFINSV</td>\n",
       "      <td>EQ</td>\n",
       "      <td>2101.05</td>\n",
       "      <td>600.00</td>\n",
       "      <td>619.00</td>\n",
       "      <td>501.0</td>\n",
       "      <td>505.1</td>\n",
       "      <td>509.10</td>\n",
       "      <td>548.85</td>\n",
       "      <td>3145446</td>\n",
       "      <td>...</td>\n",
       "      <td>908264</td>\n",
       "      <td>0.2888</td>\n",
       "      <td>NaN</td>\n",
       "      <td>NaN</td>\n",
       "      <td>NaN</td>\n",
       "      <td>NaN</td>\n",
       "      <td>NaN</td>\n",
       "      <td>NaN</td>\n",
       "      <td>NaN</td>\n",
       "      <td>NaN</td>\n",
       "    </tr>\n",
       "    <tr>\n",
       "      <th>2008-05-27</th>\n",
       "      <td>BAJAJFINSV</td>\n",
       "      <td>EQ</td>\n",
       "      <td>509.10</td>\n",
       "      <td>505.00</td>\n",
       "      <td>610.95</td>\n",
       "      <td>491.1</td>\n",
       "      <td>564.0</td>\n",
       "      <td>554.65</td>\n",
       "      <td>572.15</td>\n",
       "      <td>4349144</td>\n",
       "      <td>...</td>\n",
       "      <td>677627</td>\n",
       "      <td>0.1558</td>\n",
       "      <td>NaN</td>\n",
       "      <td>NaN</td>\n",
       "      <td>NaN</td>\n",
       "      <td>NaN</td>\n",
       "      <td>NaN</td>\n",
       "      <td>NaN</td>\n",
       "      <td>NaN</td>\n",
       "      <td>NaN</td>\n",
       "    </tr>\n",
       "    <tr>\n",
       "      <th>2008-05-28</th>\n",
       "      <td>BAJAJFINSV</td>\n",
       "      <td>EQ</td>\n",
       "      <td>554.65</td>\n",
       "      <td>564.00</td>\n",
       "      <td>665.60</td>\n",
       "      <td>564.0</td>\n",
       "      <td>643.0</td>\n",
       "      <td>640.95</td>\n",
       "      <td>618.37</td>\n",
       "      <td>4588759</td>\n",
       "      <td>...</td>\n",
       "      <td>774895</td>\n",
       "      <td>0.1689</td>\n",
       "      <td>631.850000</td>\n",
       "      <td>NaN</td>\n",
       "      <td>518.700000</td>\n",
       "      <td>NaN</td>\n",
       "      <td>4.027783e+06</td>\n",
       "      <td>NaN</td>\n",
       "      <td>2.350756e+14</td>\n",
       "      <td>NaN</td>\n",
       "    </tr>\n",
       "    <tr>\n",
       "      <th>2008-05-29</th>\n",
       "      <td>BAJAJFINSV</td>\n",
       "      <td>EQ</td>\n",
       "      <td>640.95</td>\n",
       "      <td>656.65</td>\n",
       "      <td>703.00</td>\n",
       "      <td>608.0</td>\n",
       "      <td>634.5</td>\n",
       "      <td>632.40</td>\n",
       "      <td>659.60</td>\n",
       "      <td>4522302</td>\n",
       "      <td>...</td>\n",
       "      <td>1006161</td>\n",
       "      <td>0.2225</td>\n",
       "      <td>659.850000</td>\n",
       "      <td>NaN</td>\n",
       "      <td>554.366667</td>\n",
       "      <td>NaN</td>\n",
       "      <td>4.486735e+06</td>\n",
       "      <td>NaN</td>\n",
       "      <td>2.769607e+14</td>\n",
       "      <td>NaN</td>\n",
       "    </tr>\n",
       "    <tr>\n",
       "      <th>2008-05-30</th>\n",
       "      <td>BAJAJFINSV</td>\n",
       "      <td>EQ</td>\n",
       "      <td>632.40</td>\n",
       "      <td>642.40</td>\n",
       "      <td>668.00</td>\n",
       "      <td>588.3</td>\n",
       "      <td>647.0</td>\n",
       "      <td>644.00</td>\n",
       "      <td>636.41</td>\n",
       "      <td>3057669</td>\n",
       "      <td>...</td>\n",
       "      <td>462832</td>\n",
       "      <td>0.1514</td>\n",
       "      <td>678.866667</td>\n",
       "      <td>NaN</td>\n",
       "      <td>586.766667</td>\n",
       "      <td>NaN</td>\n",
       "      <td>4.056243e+06</td>\n",
       "      <td>NaN</td>\n",
       "      <td>2.588793e+14</td>\n",
       "      <td>NaN</td>\n",
       "    </tr>\n",
       "  </tbody>\n",
       "</table>\n",
       "<p>5 rows × 21 columns</p>\n",
       "</div>"
      ],
      "text/plain": [
       "                Symbol Series  Prev Close    Open    High    Low   Last  \\\n",
       "Date                                                                      \n",
       "2008-05-26  BAJAJFINSV     EQ     2101.05  600.00  619.00  501.0  505.1   \n",
       "2008-05-27  BAJAJFINSV     EQ      509.10  505.00  610.95  491.1  564.0   \n",
       "2008-05-28  BAJAJFINSV     EQ      554.65  564.00  665.60  564.0  643.0   \n",
       "2008-05-29  BAJAJFINSV     EQ      640.95  656.65  703.00  608.0  634.5   \n",
       "2008-05-30  BAJAJFINSV     EQ      632.40  642.40  668.00  588.3  647.0   \n",
       "\n",
       "             Close    VWAP   Volume  ...  Deliverable Volume  %Deliverble  \\\n",
       "Date                                 ...                                    \n",
       "2008-05-26  509.10  548.85  3145446  ...              908264       0.2888   \n",
       "2008-05-27  554.65  572.15  4349144  ...              677627       0.1558   \n",
       "2008-05-28  640.95  618.37  4588759  ...              774895       0.1689   \n",
       "2008-05-29  632.40  659.60  4522302  ...             1006161       0.2225   \n",
       "2008-05-30  644.00  636.41  3057669  ...              462832       0.1514   \n",
       "\n",
       "            Highrolling_mean_3  Highrolling_mean_7  Lowrolling_mean_3  \\\n",
       "Date                                                                    \n",
       "2008-05-26                 NaN                 NaN                NaN   \n",
       "2008-05-27                 NaN                 NaN                NaN   \n",
       "2008-05-28          631.850000                 NaN         518.700000   \n",
       "2008-05-29          659.850000                 NaN         554.366667   \n",
       "2008-05-30          678.866667                 NaN         586.766667   \n",
       "\n",
       "            Lowrolling_mean_7  Volumerolling_mean_3  Volumerolling_mean_7  \\\n",
       "Date                                                                        \n",
       "2008-05-26                NaN                   NaN                   NaN   \n",
       "2008-05-27                NaN                   NaN                   NaN   \n",
       "2008-05-28                NaN          4.027783e+06                   NaN   \n",
       "2008-05-29                NaN          4.486735e+06                   NaN   \n",
       "2008-05-30                NaN          4.056243e+06                   NaN   \n",
       "\n",
       "            Turnoverrolling_mean_3  Turnoverrolling_mean_7  \n",
       "Date                                                        \n",
       "2008-05-26                     NaN                     NaN  \n",
       "2008-05-27                     NaN                     NaN  \n",
       "2008-05-28            2.350756e+14                     NaN  \n",
       "2008-05-29            2.769607e+14                     NaN  \n",
       "2008-05-30            2.588793e+14                     NaN  \n",
       "\n",
       "[5 rows x 21 columns]"
      ]
     },
     "execution_count": 28,
     "metadata": {},
     "output_type": "execute_result"
    }
   ],
   "source": [
    "dataframe.head()"
   ]
  },
  {
   "cell_type": "code",
   "execution_count": 29,
   "id": "39357dc3-5c26-4c0f-8eb7-e26fc431181d",
   "metadata": {},
   "outputs": [],
   "source": [
    "for col in lag_features:\n",
    "    dataframe[col+\"rolling_std_3\"]=dataframe[col].rolling(window=window1).std()\n",
    "    dataframe[col+\"rolling_std_3\"]=dataframe[col].rolling(window=window2).std()"
   ]
  },
  {
   "cell_type": "code",
   "execution_count": 30,
   "id": "a5368060-aab9-4827-8fef-1a2ab937b09c",
   "metadata": {},
   "outputs": [
    {
     "data": {
      "text/html": [
       "<div>\n",
       "<style scoped>\n",
       "    .dataframe tbody tr th:only-of-type {\n",
       "        vertical-align: middle;\n",
       "    }\n",
       "\n",
       "    .dataframe tbody tr th {\n",
       "        vertical-align: top;\n",
       "    }\n",
       "\n",
       "    .dataframe thead th {\n",
       "        text-align: right;\n",
       "    }\n",
       "</style>\n",
       "<table border=\"1\" class=\"dataframe\">\n",
       "  <thead>\n",
       "    <tr style=\"text-align: right;\">\n",
       "      <th></th>\n",
       "      <th>Symbol</th>\n",
       "      <th>Series</th>\n",
       "      <th>Prev Close</th>\n",
       "      <th>Open</th>\n",
       "      <th>High</th>\n",
       "      <th>Low</th>\n",
       "      <th>Last</th>\n",
       "      <th>Close</th>\n",
       "      <th>VWAP</th>\n",
       "      <th>Volume</th>\n",
       "      <th>...</th>\n",
       "      <th>Lowrolling_mean_3</th>\n",
       "      <th>Lowrolling_mean_7</th>\n",
       "      <th>Volumerolling_mean_3</th>\n",
       "      <th>Volumerolling_mean_7</th>\n",
       "      <th>Turnoverrolling_mean_3</th>\n",
       "      <th>Turnoverrolling_mean_7</th>\n",
       "      <th>Highrolling_std_3</th>\n",
       "      <th>Lowrolling_std_3</th>\n",
       "      <th>Volumerolling_std_3</th>\n",
       "      <th>Turnoverrolling_std_3</th>\n",
       "    </tr>\n",
       "    <tr>\n",
       "      <th>Date</th>\n",
       "      <th></th>\n",
       "      <th></th>\n",
       "      <th></th>\n",
       "      <th></th>\n",
       "      <th></th>\n",
       "      <th></th>\n",
       "      <th></th>\n",
       "      <th></th>\n",
       "      <th></th>\n",
       "      <th></th>\n",
       "      <th></th>\n",
       "      <th></th>\n",
       "      <th></th>\n",
       "      <th></th>\n",
       "      <th></th>\n",
       "      <th></th>\n",
       "      <th></th>\n",
       "      <th></th>\n",
       "      <th></th>\n",
       "      <th></th>\n",
       "      <th></th>\n",
       "    </tr>\n",
       "  </thead>\n",
       "  <tbody>\n",
       "    <tr>\n",
       "      <th>2008-05-26</th>\n",
       "      <td>BAJAJFINSV</td>\n",
       "      <td>EQ</td>\n",
       "      <td>2101.05</td>\n",
       "      <td>600.00</td>\n",
       "      <td>619.00</td>\n",
       "      <td>501.0</td>\n",
       "      <td>505.1</td>\n",
       "      <td>509.10</td>\n",
       "      <td>548.85</td>\n",
       "      <td>3145446</td>\n",
       "      <td>...</td>\n",
       "      <td>NaN</td>\n",
       "      <td>NaN</td>\n",
       "      <td>NaN</td>\n",
       "      <td>NaN</td>\n",
       "      <td>NaN</td>\n",
       "      <td>NaN</td>\n",
       "      <td>NaN</td>\n",
       "      <td>NaN</td>\n",
       "      <td>NaN</td>\n",
       "      <td>NaN</td>\n",
       "    </tr>\n",
       "    <tr>\n",
       "      <th>2008-05-27</th>\n",
       "      <td>BAJAJFINSV</td>\n",
       "      <td>EQ</td>\n",
       "      <td>509.10</td>\n",
       "      <td>505.00</td>\n",
       "      <td>610.95</td>\n",
       "      <td>491.1</td>\n",
       "      <td>564.0</td>\n",
       "      <td>554.65</td>\n",
       "      <td>572.15</td>\n",
       "      <td>4349144</td>\n",
       "      <td>...</td>\n",
       "      <td>NaN</td>\n",
       "      <td>NaN</td>\n",
       "      <td>NaN</td>\n",
       "      <td>NaN</td>\n",
       "      <td>NaN</td>\n",
       "      <td>NaN</td>\n",
       "      <td>NaN</td>\n",
       "      <td>NaN</td>\n",
       "      <td>NaN</td>\n",
       "      <td>NaN</td>\n",
       "    </tr>\n",
       "    <tr>\n",
       "      <th>2008-05-28</th>\n",
       "      <td>BAJAJFINSV</td>\n",
       "      <td>EQ</td>\n",
       "      <td>554.65</td>\n",
       "      <td>564.00</td>\n",
       "      <td>665.60</td>\n",
       "      <td>564.0</td>\n",
       "      <td>643.0</td>\n",
       "      <td>640.95</td>\n",
       "      <td>618.37</td>\n",
       "      <td>4588759</td>\n",
       "      <td>...</td>\n",
       "      <td>518.700000</td>\n",
       "      <td>NaN</td>\n",
       "      <td>4.027783e+06</td>\n",
       "      <td>NaN</td>\n",
       "      <td>2.350756e+14</td>\n",
       "      <td>NaN</td>\n",
       "      <td>NaN</td>\n",
       "      <td>NaN</td>\n",
       "      <td>NaN</td>\n",
       "      <td>NaN</td>\n",
       "    </tr>\n",
       "    <tr>\n",
       "      <th>2008-05-29</th>\n",
       "      <td>BAJAJFINSV</td>\n",
       "      <td>EQ</td>\n",
       "      <td>640.95</td>\n",
       "      <td>656.65</td>\n",
       "      <td>703.00</td>\n",
       "      <td>608.0</td>\n",
       "      <td>634.5</td>\n",
       "      <td>632.40</td>\n",
       "      <td>659.60</td>\n",
       "      <td>4522302</td>\n",
       "      <td>...</td>\n",
       "      <td>554.366667</td>\n",
       "      <td>NaN</td>\n",
       "      <td>4.486735e+06</td>\n",
       "      <td>NaN</td>\n",
       "      <td>2.769607e+14</td>\n",
       "      <td>NaN</td>\n",
       "      <td>NaN</td>\n",
       "      <td>NaN</td>\n",
       "      <td>NaN</td>\n",
       "      <td>NaN</td>\n",
       "    </tr>\n",
       "    <tr>\n",
       "      <th>2008-05-30</th>\n",
       "      <td>BAJAJFINSV</td>\n",
       "      <td>EQ</td>\n",
       "      <td>632.40</td>\n",
       "      <td>642.40</td>\n",
       "      <td>668.00</td>\n",
       "      <td>588.3</td>\n",
       "      <td>647.0</td>\n",
       "      <td>644.00</td>\n",
       "      <td>636.41</td>\n",
       "      <td>3057669</td>\n",
       "      <td>...</td>\n",
       "      <td>586.766667</td>\n",
       "      <td>NaN</td>\n",
       "      <td>4.056243e+06</td>\n",
       "      <td>NaN</td>\n",
       "      <td>2.588793e+14</td>\n",
       "      <td>NaN</td>\n",
       "      <td>NaN</td>\n",
       "      <td>NaN</td>\n",
       "      <td>NaN</td>\n",
       "      <td>NaN</td>\n",
       "    </tr>\n",
       "  </tbody>\n",
       "</table>\n",
       "<p>5 rows × 25 columns</p>\n",
       "</div>"
      ],
      "text/plain": [
       "                Symbol Series  Prev Close    Open    High    Low   Last  \\\n",
       "Date                                                                      \n",
       "2008-05-26  BAJAJFINSV     EQ     2101.05  600.00  619.00  501.0  505.1   \n",
       "2008-05-27  BAJAJFINSV     EQ      509.10  505.00  610.95  491.1  564.0   \n",
       "2008-05-28  BAJAJFINSV     EQ      554.65  564.00  665.60  564.0  643.0   \n",
       "2008-05-29  BAJAJFINSV     EQ      640.95  656.65  703.00  608.0  634.5   \n",
       "2008-05-30  BAJAJFINSV     EQ      632.40  642.40  668.00  588.3  647.0   \n",
       "\n",
       "             Close    VWAP   Volume  ...  Lowrolling_mean_3  \\\n",
       "Date                                 ...                      \n",
       "2008-05-26  509.10  548.85  3145446  ...                NaN   \n",
       "2008-05-27  554.65  572.15  4349144  ...                NaN   \n",
       "2008-05-28  640.95  618.37  4588759  ...         518.700000   \n",
       "2008-05-29  632.40  659.60  4522302  ...         554.366667   \n",
       "2008-05-30  644.00  636.41  3057669  ...         586.766667   \n",
       "\n",
       "            Lowrolling_mean_7  Volumerolling_mean_3  Volumerolling_mean_7  \\\n",
       "Date                                                                        \n",
       "2008-05-26                NaN                   NaN                   NaN   \n",
       "2008-05-27                NaN                   NaN                   NaN   \n",
       "2008-05-28                NaN          4.027783e+06                   NaN   \n",
       "2008-05-29                NaN          4.486735e+06                   NaN   \n",
       "2008-05-30                NaN          4.056243e+06                   NaN   \n",
       "\n",
       "            Turnoverrolling_mean_3  Turnoverrolling_mean_7  Highrolling_std_3  \\\n",
       "Date                                                                            \n",
       "2008-05-26                     NaN                     NaN                NaN   \n",
       "2008-05-27                     NaN                     NaN                NaN   \n",
       "2008-05-28            2.350756e+14                     NaN                NaN   \n",
       "2008-05-29            2.769607e+14                     NaN                NaN   \n",
       "2008-05-30            2.588793e+14                     NaN                NaN   \n",
       "\n",
       "            Lowrolling_std_3  Volumerolling_std_3  Turnoverrolling_std_3  \n",
       "Date                                                                      \n",
       "2008-05-26               NaN                  NaN                    NaN  \n",
       "2008-05-27               NaN                  NaN                    NaN  \n",
       "2008-05-28               NaN                  NaN                    NaN  \n",
       "2008-05-29               NaN                  NaN                    NaN  \n",
       "2008-05-30               NaN                  NaN                    NaN  \n",
       "\n",
       "[5 rows x 25 columns]"
      ]
     },
     "execution_count": 30,
     "metadata": {},
     "output_type": "execute_result"
    }
   ],
   "source": [
    "dataframe.head()"
   ]
  },
  {
   "cell_type": "code",
   "execution_count": 31,
   "id": "30c01e0d-bc92-44d3-b7fb-314d8e9f221d",
   "metadata": {},
   "outputs": [
    {
     "data": {
      "text/plain": [
       "(3201, 25)"
      ]
     },
     "execution_count": 31,
     "metadata": {},
     "output_type": "execute_result"
    }
   ],
   "source": [
    "dataframe.shape"
   ]
  },
  {
   "cell_type": "code",
   "execution_count": 32,
   "id": "863b07e8-3f2c-4f8b-b93d-f4f5365653eb",
   "metadata": {},
   "outputs": [
    {
     "data": {
      "text/html": [
       "<div>\n",
       "<style scoped>\n",
       "    .dataframe tbody tr th:only-of-type {\n",
       "        vertical-align: middle;\n",
       "    }\n",
       "\n",
       "    .dataframe tbody tr th {\n",
       "        vertical-align: top;\n",
       "    }\n",
       "\n",
       "    .dataframe thead th {\n",
       "        text-align: right;\n",
       "    }\n",
       "</style>\n",
       "<table border=\"1\" class=\"dataframe\">\n",
       "  <thead>\n",
       "    <tr style=\"text-align: right;\">\n",
       "      <th></th>\n",
       "      <th>Symbol</th>\n",
       "      <th>Series</th>\n",
       "      <th>Prev Close</th>\n",
       "      <th>Open</th>\n",
       "      <th>High</th>\n",
       "      <th>Low</th>\n",
       "      <th>Last</th>\n",
       "      <th>Close</th>\n",
       "      <th>VWAP</th>\n",
       "      <th>Volume</th>\n",
       "      <th>...</th>\n",
       "      <th>Lowrolling_mean_3</th>\n",
       "      <th>Lowrolling_mean_7</th>\n",
       "      <th>Volumerolling_mean_3</th>\n",
       "      <th>Volumerolling_mean_7</th>\n",
       "      <th>Turnoverrolling_mean_3</th>\n",
       "      <th>Turnoverrolling_mean_7</th>\n",
       "      <th>Highrolling_std_3</th>\n",
       "      <th>Lowrolling_std_3</th>\n",
       "      <th>Volumerolling_std_3</th>\n",
       "      <th>Turnoverrolling_std_3</th>\n",
       "    </tr>\n",
       "    <tr>\n",
       "      <th>Date</th>\n",
       "      <th></th>\n",
       "      <th></th>\n",
       "      <th></th>\n",
       "      <th></th>\n",
       "      <th></th>\n",
       "      <th></th>\n",
       "      <th></th>\n",
       "      <th></th>\n",
       "      <th></th>\n",
       "      <th></th>\n",
       "      <th></th>\n",
       "      <th></th>\n",
       "      <th></th>\n",
       "      <th></th>\n",
       "      <th></th>\n",
       "      <th></th>\n",
       "      <th></th>\n",
       "      <th></th>\n",
       "      <th></th>\n",
       "      <th></th>\n",
       "      <th></th>\n",
       "    </tr>\n",
       "  </thead>\n",
       "  <tbody>\n",
       "    <tr>\n",
       "      <th>2008-05-26</th>\n",
       "      <td>False</td>\n",
       "      <td>False</td>\n",
       "      <td>False</td>\n",
       "      <td>False</td>\n",
       "      <td>False</td>\n",
       "      <td>False</td>\n",
       "      <td>False</td>\n",
       "      <td>False</td>\n",
       "      <td>False</td>\n",
       "      <td>False</td>\n",
       "      <td>...</td>\n",
       "      <td>True</td>\n",
       "      <td>True</td>\n",
       "      <td>True</td>\n",
       "      <td>True</td>\n",
       "      <td>True</td>\n",
       "      <td>True</td>\n",
       "      <td>True</td>\n",
       "      <td>True</td>\n",
       "      <td>True</td>\n",
       "      <td>True</td>\n",
       "    </tr>\n",
       "    <tr>\n",
       "      <th>2008-05-27</th>\n",
       "      <td>False</td>\n",
       "      <td>False</td>\n",
       "      <td>False</td>\n",
       "      <td>False</td>\n",
       "      <td>False</td>\n",
       "      <td>False</td>\n",
       "      <td>False</td>\n",
       "      <td>False</td>\n",
       "      <td>False</td>\n",
       "      <td>False</td>\n",
       "      <td>...</td>\n",
       "      <td>True</td>\n",
       "      <td>True</td>\n",
       "      <td>True</td>\n",
       "      <td>True</td>\n",
       "      <td>True</td>\n",
       "      <td>True</td>\n",
       "      <td>True</td>\n",
       "      <td>True</td>\n",
       "      <td>True</td>\n",
       "      <td>True</td>\n",
       "    </tr>\n",
       "    <tr>\n",
       "      <th>2008-05-28</th>\n",
       "      <td>False</td>\n",
       "      <td>False</td>\n",
       "      <td>False</td>\n",
       "      <td>False</td>\n",
       "      <td>False</td>\n",
       "      <td>False</td>\n",
       "      <td>False</td>\n",
       "      <td>False</td>\n",
       "      <td>False</td>\n",
       "      <td>False</td>\n",
       "      <td>...</td>\n",
       "      <td>False</td>\n",
       "      <td>True</td>\n",
       "      <td>False</td>\n",
       "      <td>True</td>\n",
       "      <td>False</td>\n",
       "      <td>True</td>\n",
       "      <td>True</td>\n",
       "      <td>True</td>\n",
       "      <td>True</td>\n",
       "      <td>True</td>\n",
       "    </tr>\n",
       "    <tr>\n",
       "      <th>2008-05-29</th>\n",
       "      <td>False</td>\n",
       "      <td>False</td>\n",
       "      <td>False</td>\n",
       "      <td>False</td>\n",
       "      <td>False</td>\n",
       "      <td>False</td>\n",
       "      <td>False</td>\n",
       "      <td>False</td>\n",
       "      <td>False</td>\n",
       "      <td>False</td>\n",
       "      <td>...</td>\n",
       "      <td>False</td>\n",
       "      <td>True</td>\n",
       "      <td>False</td>\n",
       "      <td>True</td>\n",
       "      <td>False</td>\n",
       "      <td>True</td>\n",
       "      <td>True</td>\n",
       "      <td>True</td>\n",
       "      <td>True</td>\n",
       "      <td>True</td>\n",
       "    </tr>\n",
       "    <tr>\n",
       "      <th>2008-05-30</th>\n",
       "      <td>False</td>\n",
       "      <td>False</td>\n",
       "      <td>False</td>\n",
       "      <td>False</td>\n",
       "      <td>False</td>\n",
       "      <td>False</td>\n",
       "      <td>False</td>\n",
       "      <td>False</td>\n",
       "      <td>False</td>\n",
       "      <td>False</td>\n",
       "      <td>...</td>\n",
       "      <td>False</td>\n",
       "      <td>True</td>\n",
       "      <td>False</td>\n",
       "      <td>True</td>\n",
       "      <td>False</td>\n",
       "      <td>True</td>\n",
       "      <td>True</td>\n",
       "      <td>True</td>\n",
       "      <td>True</td>\n",
       "      <td>True</td>\n",
       "    </tr>\n",
       "    <tr>\n",
       "      <th>...</th>\n",
       "      <td>...</td>\n",
       "      <td>...</td>\n",
       "      <td>...</td>\n",
       "      <td>...</td>\n",
       "      <td>...</td>\n",
       "      <td>...</td>\n",
       "      <td>...</td>\n",
       "      <td>...</td>\n",
       "      <td>...</td>\n",
       "      <td>...</td>\n",
       "      <td>...</td>\n",
       "      <td>...</td>\n",
       "      <td>...</td>\n",
       "      <td>...</td>\n",
       "      <td>...</td>\n",
       "      <td>...</td>\n",
       "      <td>...</td>\n",
       "      <td>...</td>\n",
       "      <td>...</td>\n",
       "      <td>...</td>\n",
       "      <td>...</td>\n",
       "    </tr>\n",
       "    <tr>\n",
       "      <th>2021-04-26</th>\n",
       "      <td>False</td>\n",
       "      <td>False</td>\n",
       "      <td>False</td>\n",
       "      <td>False</td>\n",
       "      <td>False</td>\n",
       "      <td>False</td>\n",
       "      <td>False</td>\n",
       "      <td>False</td>\n",
       "      <td>False</td>\n",
       "      <td>False</td>\n",
       "      <td>...</td>\n",
       "      <td>False</td>\n",
       "      <td>False</td>\n",
       "      <td>False</td>\n",
       "      <td>False</td>\n",
       "      <td>False</td>\n",
       "      <td>False</td>\n",
       "      <td>False</td>\n",
       "      <td>False</td>\n",
       "      <td>False</td>\n",
       "      <td>False</td>\n",
       "    </tr>\n",
       "    <tr>\n",
       "      <th>2021-04-27</th>\n",
       "      <td>False</td>\n",
       "      <td>False</td>\n",
       "      <td>False</td>\n",
       "      <td>False</td>\n",
       "      <td>False</td>\n",
       "      <td>False</td>\n",
       "      <td>False</td>\n",
       "      <td>False</td>\n",
       "      <td>False</td>\n",
       "      <td>False</td>\n",
       "      <td>...</td>\n",
       "      <td>False</td>\n",
       "      <td>False</td>\n",
       "      <td>False</td>\n",
       "      <td>False</td>\n",
       "      <td>False</td>\n",
       "      <td>False</td>\n",
       "      <td>False</td>\n",
       "      <td>False</td>\n",
       "      <td>False</td>\n",
       "      <td>False</td>\n",
       "    </tr>\n",
       "    <tr>\n",
       "      <th>2021-04-28</th>\n",
       "      <td>False</td>\n",
       "      <td>False</td>\n",
       "      <td>False</td>\n",
       "      <td>False</td>\n",
       "      <td>False</td>\n",
       "      <td>False</td>\n",
       "      <td>False</td>\n",
       "      <td>False</td>\n",
       "      <td>False</td>\n",
       "      <td>False</td>\n",
       "      <td>...</td>\n",
       "      <td>False</td>\n",
       "      <td>False</td>\n",
       "      <td>False</td>\n",
       "      <td>False</td>\n",
       "      <td>False</td>\n",
       "      <td>False</td>\n",
       "      <td>False</td>\n",
       "      <td>False</td>\n",
       "      <td>False</td>\n",
       "      <td>False</td>\n",
       "    </tr>\n",
       "    <tr>\n",
       "      <th>2021-04-29</th>\n",
       "      <td>False</td>\n",
       "      <td>False</td>\n",
       "      <td>False</td>\n",
       "      <td>False</td>\n",
       "      <td>False</td>\n",
       "      <td>False</td>\n",
       "      <td>False</td>\n",
       "      <td>False</td>\n",
       "      <td>False</td>\n",
       "      <td>False</td>\n",
       "      <td>...</td>\n",
       "      <td>False</td>\n",
       "      <td>False</td>\n",
       "      <td>False</td>\n",
       "      <td>False</td>\n",
       "      <td>False</td>\n",
       "      <td>False</td>\n",
       "      <td>False</td>\n",
       "      <td>False</td>\n",
       "      <td>False</td>\n",
       "      <td>False</td>\n",
       "    </tr>\n",
       "    <tr>\n",
       "      <th>2021-04-30</th>\n",
       "      <td>False</td>\n",
       "      <td>False</td>\n",
       "      <td>False</td>\n",
       "      <td>False</td>\n",
       "      <td>False</td>\n",
       "      <td>False</td>\n",
       "      <td>False</td>\n",
       "      <td>False</td>\n",
       "      <td>False</td>\n",
       "      <td>False</td>\n",
       "      <td>...</td>\n",
       "      <td>False</td>\n",
       "      <td>False</td>\n",
       "      <td>False</td>\n",
       "      <td>False</td>\n",
       "      <td>False</td>\n",
       "      <td>False</td>\n",
       "      <td>False</td>\n",
       "      <td>False</td>\n",
       "      <td>False</td>\n",
       "      <td>False</td>\n",
       "    </tr>\n",
       "  </tbody>\n",
       "</table>\n",
       "<p>3201 rows × 25 columns</p>\n",
       "</div>"
      ],
      "text/plain": [
       "            Symbol  Series  Prev Close   Open   High    Low   Last  Close  \\\n",
       "Date                                                                        \n",
       "2008-05-26   False   False       False  False  False  False  False  False   \n",
       "2008-05-27   False   False       False  False  False  False  False  False   \n",
       "2008-05-28   False   False       False  False  False  False  False  False   \n",
       "2008-05-29   False   False       False  False  False  False  False  False   \n",
       "2008-05-30   False   False       False  False  False  False  False  False   \n",
       "...            ...     ...         ...    ...    ...    ...    ...    ...   \n",
       "2021-04-26   False   False       False  False  False  False  False  False   \n",
       "2021-04-27   False   False       False  False  False  False  False  False   \n",
       "2021-04-28   False   False       False  False  False  False  False  False   \n",
       "2021-04-29   False   False       False  False  False  False  False  False   \n",
       "2021-04-30   False   False       False  False  False  False  False  False   \n",
       "\n",
       "             VWAP  Volume  ...  Lowrolling_mean_3  Lowrolling_mean_7  \\\n",
       "Date                       ...                                         \n",
       "2008-05-26  False   False  ...               True               True   \n",
       "2008-05-27  False   False  ...               True               True   \n",
       "2008-05-28  False   False  ...              False               True   \n",
       "2008-05-29  False   False  ...              False               True   \n",
       "2008-05-30  False   False  ...              False               True   \n",
       "...           ...     ...  ...                ...                ...   \n",
       "2021-04-26  False   False  ...              False              False   \n",
       "2021-04-27  False   False  ...              False              False   \n",
       "2021-04-28  False   False  ...              False              False   \n",
       "2021-04-29  False   False  ...              False              False   \n",
       "2021-04-30  False   False  ...              False              False   \n",
       "\n",
       "            Volumerolling_mean_3  Volumerolling_mean_7  \\\n",
       "Date                                                     \n",
       "2008-05-26                  True                  True   \n",
       "2008-05-27                  True                  True   \n",
       "2008-05-28                 False                  True   \n",
       "2008-05-29                 False                  True   \n",
       "2008-05-30                 False                  True   \n",
       "...                          ...                   ...   \n",
       "2021-04-26                 False                 False   \n",
       "2021-04-27                 False                 False   \n",
       "2021-04-28                 False                 False   \n",
       "2021-04-29                 False                 False   \n",
       "2021-04-30                 False                 False   \n",
       "\n",
       "            Turnoverrolling_mean_3  Turnoverrolling_mean_7  Highrolling_std_3  \\\n",
       "Date                                                                            \n",
       "2008-05-26                    True                    True               True   \n",
       "2008-05-27                    True                    True               True   \n",
       "2008-05-28                   False                    True               True   \n",
       "2008-05-29                   False                    True               True   \n",
       "2008-05-30                   False                    True               True   \n",
       "...                            ...                     ...                ...   \n",
       "2021-04-26                   False                   False              False   \n",
       "2021-04-27                   False                   False              False   \n",
       "2021-04-28                   False                   False              False   \n",
       "2021-04-29                   False                   False              False   \n",
       "2021-04-30                   False                   False              False   \n",
       "\n",
       "            Lowrolling_std_3  Volumerolling_std_3  Turnoverrolling_std_3  \n",
       "Date                                                                      \n",
       "2008-05-26              True                 True                   True  \n",
       "2008-05-27              True                 True                   True  \n",
       "2008-05-28              True                 True                   True  \n",
       "2008-05-29              True                 True                   True  \n",
       "2008-05-30              True                 True                   True  \n",
       "...                      ...                  ...                    ...  \n",
       "2021-04-26             False                False                  False  \n",
       "2021-04-27             False                False                  False  \n",
       "2021-04-28             False                False                  False  \n",
       "2021-04-29             False                False                  False  \n",
       "2021-04-30             False                False                  False  \n",
       "\n",
       "[3201 rows x 25 columns]"
      ]
     },
     "execution_count": 32,
     "metadata": {},
     "output_type": "execute_result"
    }
   ],
   "source": [
    "dataframe.isna()"
   ]
  },
  {
   "cell_type": "code",
   "execution_count": 33,
   "id": "4f8f9996-2f6b-40c2-93e8-2bb9a8b4799d",
   "metadata": {},
   "outputs": [
    {
     "data": {
      "text/plain": [
       "Symbol                    0\n",
       "Series                    0\n",
       "Prev Close                0\n",
       "Open                      0\n",
       "High                      0\n",
       "Low                       0\n",
       "Last                      0\n",
       "Close                     0\n",
       "VWAP                      0\n",
       "Volume                    0\n",
       "Turnover                  0\n",
       "Deliverable Volume        0\n",
       "%Deliverble               0\n",
       "Highrolling_mean_3        2\n",
       "Highrolling_mean_7        6\n",
       "Lowrolling_mean_3         2\n",
       "Lowrolling_mean_7         6\n",
       "Volumerolling_mean_3      2\n",
       "Volumerolling_mean_7      6\n",
       "Turnoverrolling_mean_3    2\n",
       "Turnoverrolling_mean_7    6\n",
       "Highrolling_std_3         6\n",
       "Lowrolling_std_3          6\n",
       "Volumerolling_std_3       6\n",
       "Turnoverrolling_std_3     6\n",
       "dtype: int64"
      ]
     },
     "execution_count": 33,
     "metadata": {},
     "output_type": "execute_result"
    }
   ],
   "source": [
    "dataframe.isna().sum()"
   ]
  },
  {
   "cell_type": "code",
   "execution_count": 34,
   "id": "8d79d8ce-5088-4dda-b3e7-4b3e59bc79e7",
   "metadata": {},
   "outputs": [],
   "source": [
    "dataframe.dropna(inplace=True)"
   ]
  },
  {
   "cell_type": "code",
   "execution_count": 35,
   "id": "f3005d1e-6883-4fe7-8273-fe14e031b04c",
   "metadata": {},
   "outputs": [
    {
     "data": {
      "text/plain": [
       "Symbol                    0\n",
       "Series                    0\n",
       "Prev Close                0\n",
       "Open                      0\n",
       "High                      0\n",
       "Low                       0\n",
       "Last                      0\n",
       "Close                     0\n",
       "VWAP                      0\n",
       "Volume                    0\n",
       "Turnover                  0\n",
       "Deliverable Volume        0\n",
       "%Deliverble               0\n",
       "Highrolling_mean_3        0\n",
       "Highrolling_mean_7        0\n",
       "Lowrolling_mean_3         0\n",
       "Lowrolling_mean_7         0\n",
       "Volumerolling_mean_3      0\n",
       "Volumerolling_mean_7      0\n",
       "Turnoverrolling_mean_3    0\n",
       "Turnoverrolling_mean_7    0\n",
       "Highrolling_std_3         0\n",
       "Lowrolling_std_3          0\n",
       "Volumerolling_std_3       0\n",
       "Turnoverrolling_std_3     0\n",
       "dtype: int64"
      ]
     },
     "execution_count": 35,
     "metadata": {},
     "output_type": "execute_result"
    }
   ],
   "source": [
    "dataframe.isna().sum()"
   ]
  },
  {
   "cell_type": "code",
   "execution_count": 36,
   "id": "de06f957-e016-44ee-90e0-733278cac0ca",
   "metadata": {},
   "outputs": [],
   "source": [
    "training_data=dataframe[0:2400]\n",
    "testing_data=dataframe[2400:]"
   ]
  },
  {
   "cell_type": "code",
   "execution_count": 37,
   "id": "11af84ca-bfb4-4618-8acb-c080013a85ec",
   "metadata": {},
   "outputs": [
    {
     "data": {
      "text/plain": [
       "2400"
      ]
     },
     "execution_count": 37,
     "metadata": {},
     "output_type": "execute_result"
    }
   ],
   "source": [
    "len(training_data)"
   ]
  },
  {
   "cell_type": "code",
   "execution_count": 38,
   "id": "f6e2e275-a324-4540-af7d-d4f1623dea3f",
   "metadata": {},
   "outputs": [
    {
     "name": "stdout",
     "output_type": "stream",
     "text": [
      "2.0.4\n"
     ]
    }
   ],
   "source": [
    "import pmdarima\n",
    "print(pmdarima.__version__)"
   ]
  },
  {
   "cell_type": "code",
   "execution_count": 39,
   "id": "bb842349-77d5-444d-aad5-ce604d23da13",
   "metadata": {},
   "outputs": [
    {
     "data": {
      "text/plain": [
       "Index(['Symbol', 'Series', 'Prev Close', 'Open', 'High', 'Low', 'Last',\n",
       "       'Close', 'VWAP', 'Volume', 'Turnover', 'Deliverable Volume',\n",
       "       '%Deliverble', 'Highrolling_mean_3', 'Highrolling_mean_7',\n",
       "       'Lowrolling_mean_3', 'Lowrolling_mean_7', 'Volumerolling_mean_3',\n",
       "       'Volumerolling_mean_7', 'Turnoverrolling_mean_3',\n",
       "       'Turnoverrolling_mean_7', 'Highrolling_std_3', 'Lowrolling_std_3',\n",
       "       'Volumerolling_std_3', 'Turnoverrolling_std_3'],\n",
       "      dtype='object')"
      ]
     },
     "execution_count": 39,
     "metadata": {},
     "output_type": "execute_result"
    }
   ],
   "source": [
    "dataframe.columns"
   ]
  },
  {
   "cell_type": "code",
   "execution_count": 40,
   "id": "7b70a069-ac60-4285-94cd-f92f9413e01e",
   "metadata": {},
   "outputs": [],
   "source": [
    "ind_features=['Highrolling_mean_3', 'Highrolling_mean_7',\n",
    "       'Lowrolling_mean_3', 'Lowrolling_mean_7', 'Volumerolling_mean_3',\n",
    "       'Volumerolling_mean_7', 'Turnoverrolling_mean_3',\n",
    "       'Turnoverrolling_mean_7', 'Highrolling_std_3', 'Lowrolling_std_3',\n",
    "       'Volumerolling_std_3', 'Turnoverrolling_std_3']"
   ]
  },
  {
   "cell_type": "code",
   "execution_count": 43,
   "id": "bfa9d692-7292-4dd7-9d1f-274768cf40d0",
   "metadata": {},
   "outputs": [],
   "source": [
    "import warnings\n",
    "warnings.filterwarnings(\"ignore\")"
   ]
  },
  {
   "cell_type": "code",
   "execution_count": 44,
   "id": "682107a8-ac39-438f-a9e8-55d6dc89c54c",
   "metadata": {},
   "outputs": [],
   "source": [
    "from pmdarima import auto_arima"
   ]
  },
  {
   "cell_type": "code",
   "execution_count": 46,
   "id": "f00a7ba5-a666-4e00-9a20-f5c99aa1e0e0",
   "metadata": {},
   "outputs": [
    {
     "name": "stdout",
     "output_type": "stream",
     "text": [
      "Performing stepwise search to minimize aic\n",
      " ARIMA(2,0,2)(0,0,0)[0] intercept   : AIC=21540.854, Time=3.90 sec\n",
      " ARIMA(0,0,0)(0,0,0)[0] intercept   : AIC=22581.268, Time=2.20 sec\n",
      " ARIMA(1,0,0)(0,0,0)[0] intercept   : AIC=21998.835, Time=2.34 sec\n",
      " ARIMA(0,0,1)(0,0,0)[0] intercept   : AIC=21653.169, Time=3.26 sec\n",
      " ARIMA(0,0,0)(0,0,0)[0]             : AIC=38860.006, Time=2.07 sec\n",
      " ARIMA(1,0,2)(0,0,0)[0] intercept   : AIC=21633.108, Time=3.79 sec\n",
      " ARIMA(2,0,1)(0,0,0)[0] intercept   : AIC=21610.235, Time=3.67 sec\n",
      " ARIMA(3,0,2)(0,0,0)[0] intercept   : AIC=21541.149, Time=4.25 sec\n",
      " ARIMA(2,0,3)(0,0,0)[0] intercept   : AIC=21536.044, Time=5.18 sec\n",
      " ARIMA(1,0,3)(0,0,0)[0] intercept   : AIC=21546.198, Time=4.89 sec\n",
      " ARIMA(3,0,3)(0,0,0)[0] intercept   : AIC=21538.519, Time=4.94 sec\n",
      " ARIMA(2,0,4)(0,0,0)[0] intercept   : AIC=21533.779, Time=4.63 sec\n",
      " ARIMA(1,0,4)(0,0,0)[0] intercept   : AIC=21545.113, Time=4.43 sec\n",
      " ARIMA(3,0,4)(0,0,0)[0] intercept   : AIC=21532.791, Time=4.76 sec\n",
      " ARIMA(4,0,4)(0,0,0)[0] intercept   : AIC=21532.926, Time=5.55 sec\n",
      " ARIMA(3,0,5)(0,0,0)[0] intercept   : AIC=21533.857, Time=5.80 sec\n",
      " ARIMA(2,0,5)(0,0,0)[0] intercept   : AIC=21531.712, Time=5.07 sec\n",
      " ARIMA(1,0,5)(0,0,0)[0] intercept   : AIC=21533.864, Time=5.08 sec\n",
      " ARIMA(2,0,5)(0,0,0)[0]             : AIC=21529.706, Time=5.88 sec\n",
      " ARIMA(1,0,5)(0,0,0)[0]             : AIC=21531.856, Time=5.24 sec\n",
      " ARIMA(2,0,4)(0,0,0)[0]             : AIC=21531.734, Time=5.40 sec\n",
      " ARIMA(3,0,5)(0,0,0)[0]             : AIC=21531.848, Time=4.65 sec\n",
      " ARIMA(1,0,4)(0,0,0)[0]             : AIC=21543.066, Time=4.19 sec\n",
      " ARIMA(3,0,4)(0,0,0)[0]             : AIC=21530.772, Time=5.91 sec\n",
      "\n",
      "Best model:  ARIMA(2,0,5)(0,0,0)[0]          \n",
      "Total fit time: 107.158 seconds\n"
     ]
    }
   ],
   "source": [
    "model=auto_arima(y=training_data['VWAP'],X=training_data[ind_features],trace=True)"
   ]
  },
  {
   "cell_type": "code",
   "execution_count": 48,
   "id": "840503b6-1abe-40ef-8fcd-6c08ae53b7c7",
   "metadata": {},
   "outputs": [
    {
     "data": {
      "text/html": [
       "<style>#sk-container-id-2 {\n",
       "  /* Definition of color scheme common for light and dark mode */\n",
       "  --sklearn-color-text: #000;\n",
       "  --sklearn-color-text-muted: #666;\n",
       "  --sklearn-color-line: gray;\n",
       "  /* Definition of color scheme for unfitted estimators */\n",
       "  --sklearn-color-unfitted-level-0: #fff5e6;\n",
       "  --sklearn-color-unfitted-level-1: #f6e4d2;\n",
       "  --sklearn-color-unfitted-level-2: #ffe0b3;\n",
       "  --sklearn-color-unfitted-level-3: chocolate;\n",
       "  /* Definition of color scheme for fitted estimators */\n",
       "  --sklearn-color-fitted-level-0: #f0f8ff;\n",
       "  --sklearn-color-fitted-level-1: #d4ebff;\n",
       "  --sklearn-color-fitted-level-2: #b3dbfd;\n",
       "  --sklearn-color-fitted-level-3: cornflowerblue;\n",
       "\n",
       "  /* Specific color for light theme */\n",
       "  --sklearn-color-text-on-default-background: var(--sg-text-color, var(--theme-code-foreground, var(--jp-content-font-color1, black)));\n",
       "  --sklearn-color-background: var(--sg-background-color, var(--theme-background, var(--jp-layout-color0, white)));\n",
       "  --sklearn-color-border-box: var(--sg-text-color, var(--theme-code-foreground, var(--jp-content-font-color1, black)));\n",
       "  --sklearn-color-icon: #696969;\n",
       "\n",
       "  @media (prefers-color-scheme: dark) {\n",
       "    /* Redefinition of color scheme for dark theme */\n",
       "    --sklearn-color-text-on-default-background: var(--sg-text-color, var(--theme-code-foreground, var(--jp-content-font-color1, white)));\n",
       "    --sklearn-color-background: var(--sg-background-color, var(--theme-background, var(--jp-layout-color0, #111)));\n",
       "    --sklearn-color-border-box: var(--sg-text-color, var(--theme-code-foreground, var(--jp-content-font-color1, white)));\n",
       "    --sklearn-color-icon: #878787;\n",
       "  }\n",
       "}\n",
       "\n",
       "#sk-container-id-2 {\n",
       "  color: var(--sklearn-color-text);\n",
       "}\n",
       "\n",
       "#sk-container-id-2 pre {\n",
       "  padding: 0;\n",
       "}\n",
       "\n",
       "#sk-container-id-2 input.sk-hidden--visually {\n",
       "  border: 0;\n",
       "  clip: rect(1px 1px 1px 1px);\n",
       "  clip: rect(1px, 1px, 1px, 1px);\n",
       "  height: 1px;\n",
       "  margin: -1px;\n",
       "  overflow: hidden;\n",
       "  padding: 0;\n",
       "  position: absolute;\n",
       "  width: 1px;\n",
       "}\n",
       "\n",
       "#sk-container-id-2 div.sk-dashed-wrapped {\n",
       "  border: 1px dashed var(--sklearn-color-line);\n",
       "  margin: 0 0.4em 0.5em 0.4em;\n",
       "  box-sizing: border-box;\n",
       "  padding-bottom: 0.4em;\n",
       "  background-color: var(--sklearn-color-background);\n",
       "}\n",
       "\n",
       "#sk-container-id-2 div.sk-container {\n",
       "  /* jupyter's `normalize.less` sets `[hidden] { display: none; }`\n",
       "     but bootstrap.min.css set `[hidden] { display: none !important; }`\n",
       "     so we also need the `!important` here to be able to override the\n",
       "     default hidden behavior on the sphinx rendered scikit-learn.org.\n",
       "     See: https://github.com/scikit-learn/scikit-learn/issues/21755 */\n",
       "  display: inline-block !important;\n",
       "  position: relative;\n",
       "}\n",
       "\n",
       "#sk-container-id-2 div.sk-text-repr-fallback {\n",
       "  display: none;\n",
       "}\n",
       "\n",
       "div.sk-parallel-item,\n",
       "div.sk-serial,\n",
       "div.sk-item {\n",
       "  /* draw centered vertical line to link estimators */\n",
       "  background-image: linear-gradient(var(--sklearn-color-text-on-default-background), var(--sklearn-color-text-on-default-background));\n",
       "  background-size: 2px 100%;\n",
       "  background-repeat: no-repeat;\n",
       "  background-position: center center;\n",
       "}\n",
       "\n",
       "/* Parallel-specific style estimator block */\n",
       "\n",
       "#sk-container-id-2 div.sk-parallel-item::after {\n",
       "  content: \"\";\n",
       "  width: 100%;\n",
       "  border-bottom: 2px solid var(--sklearn-color-text-on-default-background);\n",
       "  flex-grow: 1;\n",
       "}\n",
       "\n",
       "#sk-container-id-2 div.sk-parallel {\n",
       "  display: flex;\n",
       "  align-items: stretch;\n",
       "  justify-content: center;\n",
       "  background-color: var(--sklearn-color-background);\n",
       "  position: relative;\n",
       "}\n",
       "\n",
       "#sk-container-id-2 div.sk-parallel-item {\n",
       "  display: flex;\n",
       "  flex-direction: column;\n",
       "}\n",
       "\n",
       "#sk-container-id-2 div.sk-parallel-item:first-child::after {\n",
       "  align-self: flex-end;\n",
       "  width: 50%;\n",
       "}\n",
       "\n",
       "#sk-container-id-2 div.sk-parallel-item:last-child::after {\n",
       "  align-self: flex-start;\n",
       "  width: 50%;\n",
       "}\n",
       "\n",
       "#sk-container-id-2 div.sk-parallel-item:only-child::after {\n",
       "  width: 0;\n",
       "}\n",
       "\n",
       "/* Serial-specific style estimator block */\n",
       "\n",
       "#sk-container-id-2 div.sk-serial {\n",
       "  display: flex;\n",
       "  flex-direction: column;\n",
       "  align-items: center;\n",
       "  background-color: var(--sklearn-color-background);\n",
       "  padding-right: 1em;\n",
       "  padding-left: 1em;\n",
       "}\n",
       "\n",
       "\n",
       "/* Toggleable style: style used for estimator/Pipeline/ColumnTransformer box that is\n",
       "clickable and can be expanded/collapsed.\n",
       "- Pipeline and ColumnTransformer use this feature and define the default style\n",
       "- Estimators will overwrite some part of the style using the `sk-estimator` class\n",
       "*/\n",
       "\n",
       "/* Pipeline and ColumnTransformer style (default) */\n",
       "\n",
       "#sk-container-id-2 div.sk-toggleable {\n",
       "  /* Default theme specific background. It is overwritten whether we have a\n",
       "  specific estimator or a Pipeline/ColumnTransformer */\n",
       "  background-color: var(--sklearn-color-background);\n",
       "}\n",
       "\n",
       "/* Toggleable label */\n",
       "#sk-container-id-2 label.sk-toggleable__label {\n",
       "  cursor: pointer;\n",
       "  display: flex;\n",
       "  width: 100%;\n",
       "  margin-bottom: 0;\n",
       "  padding: 0.5em;\n",
       "  box-sizing: border-box;\n",
       "  text-align: center;\n",
       "  align-items: start;\n",
       "  justify-content: space-between;\n",
       "  gap: 0.5em;\n",
       "}\n",
       "\n",
       "#sk-container-id-2 label.sk-toggleable__label .caption {\n",
       "  font-size: 0.6rem;\n",
       "  font-weight: lighter;\n",
       "  color: var(--sklearn-color-text-muted);\n",
       "}\n",
       "\n",
       "#sk-container-id-2 label.sk-toggleable__label-arrow:before {\n",
       "  /* Arrow on the left of the label */\n",
       "  content: \"▸\";\n",
       "  float: left;\n",
       "  margin-right: 0.25em;\n",
       "  color: var(--sklearn-color-icon);\n",
       "}\n",
       "\n",
       "#sk-container-id-2 label.sk-toggleable__label-arrow:hover:before {\n",
       "  color: var(--sklearn-color-text);\n",
       "}\n",
       "\n",
       "/* Toggleable content - dropdown */\n",
       "\n",
       "#sk-container-id-2 div.sk-toggleable__content {\n",
       "  display: none;\n",
       "  text-align: left;\n",
       "  /* unfitted */\n",
       "  background-color: var(--sklearn-color-unfitted-level-0);\n",
       "}\n",
       "\n",
       "#sk-container-id-2 div.sk-toggleable__content.fitted {\n",
       "  /* fitted */\n",
       "  background-color: var(--sklearn-color-fitted-level-0);\n",
       "}\n",
       "\n",
       "#sk-container-id-2 div.sk-toggleable__content pre {\n",
       "  margin: 0.2em;\n",
       "  border-radius: 0.25em;\n",
       "  color: var(--sklearn-color-text);\n",
       "  /* unfitted */\n",
       "  background-color: var(--sklearn-color-unfitted-level-0);\n",
       "}\n",
       "\n",
       "#sk-container-id-2 div.sk-toggleable__content.fitted pre {\n",
       "  /* unfitted */\n",
       "  background-color: var(--sklearn-color-fitted-level-0);\n",
       "}\n",
       "\n",
       "#sk-container-id-2 input.sk-toggleable__control:checked~div.sk-toggleable__content {\n",
       "  /* Expand drop-down */\n",
       "  display: block;\n",
       "  width: 100%;\n",
       "  overflow: visible;\n",
       "}\n",
       "\n",
       "#sk-container-id-2 input.sk-toggleable__control:checked~label.sk-toggleable__label-arrow:before {\n",
       "  content: \"▾\";\n",
       "}\n",
       "\n",
       "/* Pipeline/ColumnTransformer-specific style */\n",
       "\n",
       "#sk-container-id-2 div.sk-label input.sk-toggleable__control:checked~label.sk-toggleable__label {\n",
       "  color: var(--sklearn-color-text);\n",
       "  background-color: var(--sklearn-color-unfitted-level-2);\n",
       "}\n",
       "\n",
       "#sk-container-id-2 div.sk-label.fitted input.sk-toggleable__control:checked~label.sk-toggleable__label {\n",
       "  background-color: var(--sklearn-color-fitted-level-2);\n",
       "}\n",
       "\n",
       "/* Estimator-specific style */\n",
       "\n",
       "/* Colorize estimator box */\n",
       "#sk-container-id-2 div.sk-estimator input.sk-toggleable__control:checked~label.sk-toggleable__label {\n",
       "  /* unfitted */\n",
       "  background-color: var(--sklearn-color-unfitted-level-2);\n",
       "}\n",
       "\n",
       "#sk-container-id-2 div.sk-estimator.fitted input.sk-toggleable__control:checked~label.sk-toggleable__label {\n",
       "  /* fitted */\n",
       "  background-color: var(--sklearn-color-fitted-level-2);\n",
       "}\n",
       "\n",
       "#sk-container-id-2 div.sk-label label.sk-toggleable__label,\n",
       "#sk-container-id-2 div.sk-label label {\n",
       "  /* The background is the default theme color */\n",
       "  color: var(--sklearn-color-text-on-default-background);\n",
       "}\n",
       "\n",
       "/* On hover, darken the color of the background */\n",
       "#sk-container-id-2 div.sk-label:hover label.sk-toggleable__label {\n",
       "  color: var(--sklearn-color-text);\n",
       "  background-color: var(--sklearn-color-unfitted-level-2);\n",
       "}\n",
       "\n",
       "/* Label box, darken color on hover, fitted */\n",
       "#sk-container-id-2 div.sk-label.fitted:hover label.sk-toggleable__label.fitted {\n",
       "  color: var(--sklearn-color-text);\n",
       "  background-color: var(--sklearn-color-fitted-level-2);\n",
       "}\n",
       "\n",
       "/* Estimator label */\n",
       "\n",
       "#sk-container-id-2 div.sk-label label {\n",
       "  font-family: monospace;\n",
       "  font-weight: bold;\n",
       "  display: inline-block;\n",
       "  line-height: 1.2em;\n",
       "}\n",
       "\n",
       "#sk-container-id-2 div.sk-label-container {\n",
       "  text-align: center;\n",
       "}\n",
       "\n",
       "/* Estimator-specific */\n",
       "#sk-container-id-2 div.sk-estimator {\n",
       "  font-family: monospace;\n",
       "  border: 1px dotted var(--sklearn-color-border-box);\n",
       "  border-radius: 0.25em;\n",
       "  box-sizing: border-box;\n",
       "  margin-bottom: 0.5em;\n",
       "  /* unfitted */\n",
       "  background-color: var(--sklearn-color-unfitted-level-0);\n",
       "}\n",
       "\n",
       "#sk-container-id-2 div.sk-estimator.fitted {\n",
       "  /* fitted */\n",
       "  background-color: var(--sklearn-color-fitted-level-0);\n",
       "}\n",
       "\n",
       "/* on hover */\n",
       "#sk-container-id-2 div.sk-estimator:hover {\n",
       "  /* unfitted */\n",
       "  background-color: var(--sklearn-color-unfitted-level-2);\n",
       "}\n",
       "\n",
       "#sk-container-id-2 div.sk-estimator.fitted:hover {\n",
       "  /* fitted */\n",
       "  background-color: var(--sklearn-color-fitted-level-2);\n",
       "}\n",
       "\n",
       "/* Specification for estimator info (e.g. \"i\" and \"?\") */\n",
       "\n",
       "/* Common style for \"i\" and \"?\" */\n",
       "\n",
       ".sk-estimator-doc-link,\n",
       "a:link.sk-estimator-doc-link,\n",
       "a:visited.sk-estimator-doc-link {\n",
       "  float: right;\n",
       "  font-size: smaller;\n",
       "  line-height: 1em;\n",
       "  font-family: monospace;\n",
       "  background-color: var(--sklearn-color-background);\n",
       "  border-radius: 1em;\n",
       "  height: 1em;\n",
       "  width: 1em;\n",
       "  text-decoration: none !important;\n",
       "  margin-left: 0.5em;\n",
       "  text-align: center;\n",
       "  /* unfitted */\n",
       "  border: var(--sklearn-color-unfitted-level-1) 1pt solid;\n",
       "  color: var(--sklearn-color-unfitted-level-1);\n",
       "}\n",
       "\n",
       ".sk-estimator-doc-link.fitted,\n",
       "a:link.sk-estimator-doc-link.fitted,\n",
       "a:visited.sk-estimator-doc-link.fitted {\n",
       "  /* fitted */\n",
       "  border: var(--sklearn-color-fitted-level-1) 1pt solid;\n",
       "  color: var(--sklearn-color-fitted-level-1);\n",
       "}\n",
       "\n",
       "/* On hover */\n",
       "div.sk-estimator:hover .sk-estimator-doc-link:hover,\n",
       ".sk-estimator-doc-link:hover,\n",
       "div.sk-label-container:hover .sk-estimator-doc-link:hover,\n",
       ".sk-estimator-doc-link:hover {\n",
       "  /* unfitted */\n",
       "  background-color: var(--sklearn-color-unfitted-level-3);\n",
       "  color: var(--sklearn-color-background);\n",
       "  text-decoration: none;\n",
       "}\n",
       "\n",
       "div.sk-estimator.fitted:hover .sk-estimator-doc-link.fitted:hover,\n",
       ".sk-estimator-doc-link.fitted:hover,\n",
       "div.sk-label-container:hover .sk-estimator-doc-link.fitted:hover,\n",
       ".sk-estimator-doc-link.fitted:hover {\n",
       "  /* fitted */\n",
       "  background-color: var(--sklearn-color-fitted-level-3);\n",
       "  color: var(--sklearn-color-background);\n",
       "  text-decoration: none;\n",
       "}\n",
       "\n",
       "/* Span, style for the box shown on hovering the info icon */\n",
       ".sk-estimator-doc-link span {\n",
       "  display: none;\n",
       "  z-index: 9999;\n",
       "  position: relative;\n",
       "  font-weight: normal;\n",
       "  right: .2ex;\n",
       "  padding: .5ex;\n",
       "  margin: .5ex;\n",
       "  width: min-content;\n",
       "  min-width: 20ex;\n",
       "  max-width: 50ex;\n",
       "  color: var(--sklearn-color-text);\n",
       "  box-shadow: 2pt 2pt 4pt #999;\n",
       "  /* unfitted */\n",
       "  background: var(--sklearn-color-unfitted-level-0);\n",
       "  border: .5pt solid var(--sklearn-color-unfitted-level-3);\n",
       "}\n",
       "\n",
       ".sk-estimator-doc-link.fitted span {\n",
       "  /* fitted */\n",
       "  background: var(--sklearn-color-fitted-level-0);\n",
       "  border: var(--sklearn-color-fitted-level-3);\n",
       "}\n",
       "\n",
       ".sk-estimator-doc-link:hover span {\n",
       "  display: block;\n",
       "}\n",
       "\n",
       "/* \"?\"-specific style due to the `<a>` HTML tag */\n",
       "\n",
       "#sk-container-id-2 a.estimator_doc_link {\n",
       "  float: right;\n",
       "  font-size: 1rem;\n",
       "  line-height: 1em;\n",
       "  font-family: monospace;\n",
       "  background-color: var(--sklearn-color-background);\n",
       "  border-radius: 1rem;\n",
       "  height: 1rem;\n",
       "  width: 1rem;\n",
       "  text-decoration: none;\n",
       "  /* unfitted */\n",
       "  color: var(--sklearn-color-unfitted-level-1);\n",
       "  border: var(--sklearn-color-unfitted-level-1) 1pt solid;\n",
       "}\n",
       "\n",
       "#sk-container-id-2 a.estimator_doc_link.fitted {\n",
       "  /* fitted */\n",
       "  border: var(--sklearn-color-fitted-level-1) 1pt solid;\n",
       "  color: var(--sklearn-color-fitted-level-1);\n",
       "}\n",
       "\n",
       "/* On hover */\n",
       "#sk-container-id-2 a.estimator_doc_link:hover {\n",
       "  /* unfitted */\n",
       "  background-color: var(--sklearn-color-unfitted-level-3);\n",
       "  color: var(--sklearn-color-background);\n",
       "  text-decoration: none;\n",
       "}\n",
       "\n",
       "#sk-container-id-2 a.estimator_doc_link.fitted:hover {\n",
       "  /* fitted */\n",
       "  background-color: var(--sklearn-color-fitted-level-3);\n",
       "}\n",
       "\n",
       ".estimator-table summary {\n",
       "    padding: .5rem;\n",
       "    font-family: monospace;\n",
       "    cursor: pointer;\n",
       "}\n",
       "\n",
       ".estimator-table details[open] {\n",
       "    padding-left: 0.1rem;\n",
       "    padding-right: 0.1rem;\n",
       "    padding-bottom: 0.3rem;\n",
       "}\n",
       "\n",
       ".estimator-table .parameters-table {\n",
       "    margin-left: auto !important;\n",
       "    margin-right: auto !important;\n",
       "}\n",
       "\n",
       ".estimator-table .parameters-table tr:nth-child(odd) {\n",
       "    background-color: #fff;\n",
       "}\n",
       "\n",
       ".estimator-table .parameters-table tr:nth-child(even) {\n",
       "    background-color: #f6f6f6;\n",
       "}\n",
       "\n",
       ".estimator-table .parameters-table tr:hover {\n",
       "    background-color: #e0e0e0;\n",
       "}\n",
       "\n",
       ".estimator-table table td {\n",
       "    border: 1px solid rgba(106, 105, 104, 0.232);\n",
       "}\n",
       "\n",
       ".user-set td {\n",
       "    color:rgb(255, 94, 0);\n",
       "    text-align: left;\n",
       "}\n",
       "\n",
       ".user-set td.value pre {\n",
       "    color:rgb(255, 94, 0) !important;\n",
       "    background-color: transparent !important;\n",
       "}\n",
       "\n",
       ".default td {\n",
       "    color: black;\n",
       "    text-align: left;\n",
       "}\n",
       "\n",
       ".user-set td i,\n",
       ".default td i {\n",
       "    color: black;\n",
       "}\n",
       "\n",
       ".copy-paste-icon {\n",
       "    background-image: url(data:image/svg+xml;base64,PHN2ZyB4bWxucz0iaHR0cDovL3d3dy53My5vcmcvMjAwMC9zdmciIHZpZXdCb3g9IjAgMCA0NDggNTEyIj48IS0tIUZvbnQgQXdlc29tZSBGcmVlIDYuNy4yIGJ5IEBmb250YXdlc29tZSAtIGh0dHBzOi8vZm9udGF3ZXNvbWUuY29tIExpY2Vuc2UgLSBodHRwczovL2ZvbnRhd2Vzb21lLmNvbS9saWNlbnNlL2ZyZWUgQ29weXJpZ2h0IDIwMjUgRm9udGljb25zLCBJbmMuLS0+PHBhdGggZD0iTTIwOCAwTDMzMi4xIDBjMTIuNyAwIDI0LjkgNS4xIDMzLjkgMTQuMWw2Ny45IDY3LjljOSA5IDE0LjEgMjEuMiAxNC4xIDMzLjlMNDQ4IDMzNmMwIDI2LjUtMjEuNSA0OC00OCA0OGwtMTkyIDBjLTI2LjUgMC00OC0yMS41LTQ4LTQ4bDAtMjg4YzAtMjYuNSAyMS41LTQ4IDQ4LTQ4ek00OCAxMjhsODAgMCAwIDY0LTY0IDAgMCAyNTYgMTkyIDAgMC0zMiA2NCAwIDAgNDhjMCAyNi41LTIxLjUgNDgtNDggNDhMNDggNTEyYy0yNi41IDAtNDgtMjEuNS00OC00OEwwIDE3NmMwLTI2LjUgMjEuNS00OCA0OC00OHoiLz48L3N2Zz4=);\n",
       "    background-repeat: no-repeat;\n",
       "    background-size: 14px 14px;\n",
       "    background-position: 0;\n",
       "    display: inline-block;\n",
       "    width: 14px;\n",
       "    height: 14px;\n",
       "    cursor: pointer;\n",
       "}\n",
       "</style><body><div id=\"sk-container-id-2\" class=\"sk-top-container\"><div class=\"sk-text-repr-fallback\"><pre> ARIMA(2,0,5)(0,0,0)[0]          </pre><b>In a Jupyter environment, please rerun this cell to show the HTML representation or trust the notebook. <br />On GitHub, the HTML representation is unable to render, please try loading this page with nbviewer.org.</b></div><div class=\"sk-container\" hidden><div class=\"sk-item\"><div class=\"sk-estimator fitted sk-toggleable\"><input class=\"sk-toggleable__control sk-hidden--visually\" id=\"sk-estimator-id-2\" type=\"checkbox\" checked><label for=\"sk-estimator-id-2\" class=\"sk-toggleable__label fitted sk-toggleable__label-arrow\"><div><div>ARIMA</div></div><div><span class=\"sk-estimator-doc-link fitted\">i<span>Fitted</span></span></div></label><div class=\"sk-toggleable__content fitted\" data-param-prefix=\"\">\n",
       "        <div class=\"estimator-table\">\n",
       "            <details>\n",
       "                <summary>Parameters</summary>\n",
       "                <table class=\"parameters-table\">\n",
       "                  <tbody>\n",
       "                    \n",
       "        <tr class=\"user-set\">\n",
       "            <td><i class=\"copy-paste-icon\"\n",
       "                 onclick=\"copyToClipboard('order',\n",
       "                          this.parentElement.nextElementSibling)\"\n",
       "            ></i></td>\n",
       "            <td class=\"param\">order&nbsp;</td>\n",
       "            <td class=\"value\">(2, ...)</td>\n",
       "        </tr>\n",
       "    \n",
       "\n",
       "        <tr class=\"default\">\n",
       "            <td><i class=\"copy-paste-icon\"\n",
       "                 onclick=\"copyToClipboard('seasonal_order',\n",
       "                          this.parentElement.nextElementSibling)\"\n",
       "            ></i></td>\n",
       "            <td class=\"param\">seasonal_order&nbsp;</td>\n",
       "            <td class=\"value\">(0, ...)</td>\n",
       "        </tr>\n",
       "    \n",
       "\n",
       "        <tr class=\"default\">\n",
       "            <td><i class=\"copy-paste-icon\"\n",
       "                 onclick=\"copyToClipboard('start_params',\n",
       "                          this.parentElement.nextElementSibling)\"\n",
       "            ></i></td>\n",
       "            <td class=\"param\">start_params&nbsp;</td>\n",
       "            <td class=\"value\">None</td>\n",
       "        </tr>\n",
       "    \n",
       "\n",
       "        <tr class=\"default\">\n",
       "            <td><i class=\"copy-paste-icon\"\n",
       "                 onclick=\"copyToClipboard('method',\n",
       "                          this.parentElement.nextElementSibling)\"\n",
       "            ></i></td>\n",
       "            <td class=\"param\">method&nbsp;</td>\n",
       "            <td class=\"value\">&#x27;lbfgs&#x27;</td>\n",
       "        </tr>\n",
       "    \n",
       "\n",
       "        <tr class=\"default\">\n",
       "            <td><i class=\"copy-paste-icon\"\n",
       "                 onclick=\"copyToClipboard('maxiter',\n",
       "                          this.parentElement.nextElementSibling)\"\n",
       "            ></i></td>\n",
       "            <td class=\"param\">maxiter&nbsp;</td>\n",
       "            <td class=\"value\">50</td>\n",
       "        </tr>\n",
       "    \n",
       "\n",
       "        <tr class=\"user-set\">\n",
       "            <td><i class=\"copy-paste-icon\"\n",
       "                 onclick=\"copyToClipboard('suppress_warnings',\n",
       "                          this.parentElement.nextElementSibling)\"\n",
       "            ></i></td>\n",
       "            <td class=\"param\">suppress_warnings&nbsp;</td>\n",
       "            <td class=\"value\">True</td>\n",
       "        </tr>\n",
       "    \n",
       "\n",
       "        <tr class=\"default\">\n",
       "            <td><i class=\"copy-paste-icon\"\n",
       "                 onclick=\"copyToClipboard('out_of_sample_size',\n",
       "                          this.parentElement.nextElementSibling)\"\n",
       "            ></i></td>\n",
       "            <td class=\"param\">out_of_sample_size&nbsp;</td>\n",
       "            <td class=\"value\">0</td>\n",
       "        </tr>\n",
       "    \n",
       "\n",
       "        <tr class=\"default\">\n",
       "            <td><i class=\"copy-paste-icon\"\n",
       "                 onclick=\"copyToClipboard('scoring',\n",
       "                          this.parentElement.nextElementSibling)\"\n",
       "            ></i></td>\n",
       "            <td class=\"param\">scoring&nbsp;</td>\n",
       "            <td class=\"value\">&#x27;mse&#x27;</td>\n",
       "        </tr>\n",
       "    \n",
       "\n",
       "        <tr class=\"user-set\">\n",
       "            <td><i class=\"copy-paste-icon\"\n",
       "                 onclick=\"copyToClipboard('scoring_args',\n",
       "                          this.parentElement.nextElementSibling)\"\n",
       "            ></i></td>\n",
       "            <td class=\"param\">scoring_args&nbsp;</td>\n",
       "            <td class=\"value\">{}</td>\n",
       "        </tr>\n",
       "    \n",
       "\n",
       "        <tr class=\"default\">\n",
       "            <td><i class=\"copy-paste-icon\"\n",
       "                 onclick=\"copyToClipboard('trend',\n",
       "                          this.parentElement.nextElementSibling)\"\n",
       "            ></i></td>\n",
       "            <td class=\"param\">trend&nbsp;</td>\n",
       "            <td class=\"value\">None</td>\n",
       "        </tr>\n",
       "    \n",
       "\n",
       "        <tr class=\"user-set\">\n",
       "            <td><i class=\"copy-paste-icon\"\n",
       "                 onclick=\"copyToClipboard('with_intercept',\n",
       "                          this.parentElement.nextElementSibling)\"\n",
       "            ></i></td>\n",
       "            <td class=\"param\">with_intercept&nbsp;</td>\n",
       "            <td class=\"value\">False</td>\n",
       "        </tr>\n",
       "    \n",
       "                  </tbody>\n",
       "                </table>\n",
       "            </details>\n",
       "        </div>\n",
       "    </div></div></div></div></div><script>function copyToClipboard(text, element) {\n",
       "    // Get the parameter prefix from the closest toggleable content\n",
       "    const toggleableContent = element.closest('.sk-toggleable__content');\n",
       "    const paramPrefix = toggleableContent ? toggleableContent.dataset.paramPrefix : '';\n",
       "    const fullParamName = paramPrefix ? `${paramPrefix}${text}` : text;\n",
       "\n",
       "    const originalStyle = element.style;\n",
       "    const computedStyle = window.getComputedStyle(element);\n",
       "    const originalWidth = computedStyle.width;\n",
       "    const originalHTML = element.innerHTML.replace('Copied!', '');\n",
       "\n",
       "    navigator.clipboard.writeText(fullParamName)\n",
       "        .then(() => {\n",
       "            element.style.width = originalWidth;\n",
       "            element.style.color = 'green';\n",
       "            element.innerHTML = \"Copied!\";\n",
       "\n",
       "            setTimeout(() => {\n",
       "                element.innerHTML = originalHTML;\n",
       "                element.style = originalStyle;\n",
       "            }, 2000);\n",
       "        })\n",
       "        .catch(err => {\n",
       "            console.error('Failed to copy:', err);\n",
       "            element.style.color = 'red';\n",
       "            element.innerHTML = \"Failed!\";\n",
       "            setTimeout(() => {\n",
       "                element.innerHTML = originalHTML;\n",
       "                element.style = originalStyle;\n",
       "            }, 2000);\n",
       "        });\n",
       "    return false;\n",
       "}\n",
       "\n",
       "document.querySelectorAll('.fa-regular.fa-copy').forEach(function(element) {\n",
       "    const toggleableContent = element.closest('.sk-toggleable__content');\n",
       "    const paramPrefix = toggleableContent ? toggleableContent.dataset.paramPrefix : '';\n",
       "    const paramName = element.parentElement.nextElementSibling.textContent.trim();\n",
       "    const fullParamName = paramPrefix ? `${paramPrefix}${paramName}` : paramName;\n",
       "\n",
       "    element.setAttribute('title', fullParamName);\n",
       "});\n",
       "</script></body>"
      ],
      "text/plain": [
       "ARIMA(order=(2, 0, 5), scoring_args={}, suppress_warnings=True,\n",
       "      with_intercept=False)"
      ]
     },
     "execution_count": 48,
     "metadata": {},
     "output_type": "execute_result"
    }
   ],
   "source": [
    "model"
   ]
  },
  {
   "cell_type": "code",
   "execution_count": 52,
   "id": "74c8f747-c497-4252-9fa4-a0ad07d2db0d",
   "metadata": {},
   "outputs": [],
   "source": [
    "forecast=model.predict(n_periods=len(testing_data),X=testing_data[ind_features])"
   ]
  },
  {
   "cell_type": "code",
   "execution_count": 53,
   "id": "7edb8c27-f426-409b-89bc-6c995a97dcc8",
   "metadata": {},
   "outputs": [
    {
     "data": {
      "text/plain": [
       "2400     5068.554946\n",
       "2401     5066.849385\n",
       "2402     5122.256684\n",
       "2403     5183.677600\n",
       "2404     5203.403847\n",
       "            ...     \n",
       "3190     9989.679551\n",
       "3191    10070.273695\n",
       "3192    10267.145392\n",
       "3193    10721.051346\n",
       "3194    11120.564019\n",
       "Length: 795, dtype: float64"
      ]
     },
     "execution_count": 53,
     "metadata": {},
     "output_type": "execute_result"
    }
   ],
   "source": [
    "forecast"
   ]
  },
  {
   "cell_type": "code",
   "execution_count": 54,
   "id": "aacaad6d-8e39-4a92-9045-ddee7d4cf17d",
   "metadata": {},
   "outputs": [],
   "source": [
    "testing_data['Forecast_ARIMA']=forecast.values"
   ]
  },
  {
   "cell_type": "code",
   "execution_count": 55,
   "id": "e8889d20-cfe2-432c-9044-244871a4c90f",
   "metadata": {},
   "outputs": [
    {
     "data": {
      "text/html": [
       "<div>\n",
       "<style scoped>\n",
       "    .dataframe tbody tr th:only-of-type {\n",
       "        vertical-align: middle;\n",
       "    }\n",
       "\n",
       "    .dataframe tbody tr th {\n",
       "        vertical-align: top;\n",
       "    }\n",
       "\n",
       "    .dataframe thead th {\n",
       "        text-align: right;\n",
       "    }\n",
       "</style>\n",
       "<table border=\"1\" class=\"dataframe\">\n",
       "  <thead>\n",
       "    <tr style=\"text-align: right;\">\n",
       "      <th></th>\n",
       "      <th>Symbol</th>\n",
       "      <th>Series</th>\n",
       "      <th>Prev Close</th>\n",
       "      <th>Open</th>\n",
       "      <th>High</th>\n",
       "      <th>Low</th>\n",
       "      <th>Last</th>\n",
       "      <th>Close</th>\n",
       "      <th>VWAP</th>\n",
       "      <th>Volume</th>\n",
       "      <th>...</th>\n",
       "      <th>Lowrolling_mean_7</th>\n",
       "      <th>Volumerolling_mean_3</th>\n",
       "      <th>Volumerolling_mean_7</th>\n",
       "      <th>Turnoverrolling_mean_3</th>\n",
       "      <th>Turnoverrolling_mean_7</th>\n",
       "      <th>Highrolling_std_3</th>\n",
       "      <th>Lowrolling_std_3</th>\n",
       "      <th>Volumerolling_std_3</th>\n",
       "      <th>Turnoverrolling_std_3</th>\n",
       "      <th>Forecast_ARIMA</th>\n",
       "    </tr>\n",
       "    <tr>\n",
       "      <th>Date</th>\n",
       "      <th></th>\n",
       "      <th></th>\n",
       "      <th></th>\n",
       "      <th></th>\n",
       "      <th></th>\n",
       "      <th></th>\n",
       "      <th></th>\n",
       "      <th></th>\n",
       "      <th></th>\n",
       "      <th></th>\n",
       "      <th></th>\n",
       "      <th></th>\n",
       "      <th></th>\n",
       "      <th></th>\n",
       "      <th></th>\n",
       "      <th></th>\n",
       "      <th></th>\n",
       "      <th></th>\n",
       "      <th></th>\n",
       "      <th></th>\n",
       "      <th></th>\n",
       "    </tr>\n",
       "  </thead>\n",
       "  <tbody>\n",
       "    <tr>\n",
       "      <th>2018-02-09</th>\n",
       "      <td>BAJAJFINSV</td>\n",
       "      <td>EQ</td>\n",
       "      <td>5057.25</td>\n",
       "      <td>4989.90</td>\n",
       "      <td>5088.0</td>\n",
       "      <td>4961.20</td>\n",
       "      <td>5068.00</td>\n",
       "      <td>5059.35</td>\n",
       "      <td>5037.19</td>\n",
       "      <td>144600</td>\n",
       "      <td>...</td>\n",
       "      <td>4826.821429</td>\n",
       "      <td>166873.666667</td>\n",
       "      <td>255094.142857</td>\n",
       "      <td>8.401559e+13</td>\n",
       "      <td>1.265139e+14</td>\n",
       "      <td>79.389987</td>\n",
       "      <td>167.521603</td>\n",
       "      <td>91750.413573</td>\n",
       "      <td>4.514870e+13</td>\n",
       "      <td>5068.554946</td>\n",
       "    </tr>\n",
       "    <tr>\n",
       "      <th>2018-02-12</th>\n",
       "      <td>BAJAJFINSV</td>\n",
       "      <td>EQ</td>\n",
       "      <td>5059.35</td>\n",
       "      <td>5096.30</td>\n",
       "      <td>5244.0</td>\n",
       "      <td>5042.80</td>\n",
       "      <td>5210.00</td>\n",
       "      <td>5235.45</td>\n",
       "      <td>5184.22</td>\n",
       "      <td>141176</td>\n",
       "      <td>...</td>\n",
       "      <td>4865.792857</td>\n",
       "      <td>146787.333333</td>\n",
       "      <td>225139.571429</td>\n",
       "      <td>7.493284e+13</td>\n",
       "      <td>1.122500e+14</td>\n",
       "      <td>103.400785</td>\n",
       "      <td>183.106338</td>\n",
       "      <td>89474.878072</td>\n",
       "      <td>4.375212e+13</td>\n",
       "      <td>5066.849385</td>\n",
       "    </tr>\n",
       "    <tr>\n",
       "      <th>2018-02-14</th>\n",
       "      <td>BAJAJFINSV</td>\n",
       "      <td>EQ</td>\n",
       "      <td>5235.45</td>\n",
       "      <td>5260.00</td>\n",
       "      <td>5350.0</td>\n",
       "      <td>5152.30</td>\n",
       "      <td>5175.00</td>\n",
       "      <td>5189.00</td>\n",
       "      <td>5272.21</td>\n",
       "      <td>154547</td>\n",
       "      <td>...</td>\n",
       "      <td>4903.128571</td>\n",
       "      <td>146774.333333</td>\n",
       "      <td>193623.428571</td>\n",
       "      <td>7.583563e+13</td>\n",
       "      <td>9.691195e+13</td>\n",
       "      <td>142.107292</td>\n",
       "      <td>213.253902</td>\n",
       "      <td>62661.570046</td>\n",
       "      <td>2.863090e+13</td>\n",
       "      <td>5122.256684</td>\n",
       "    </tr>\n",
       "    <tr>\n",
       "      <th>2018-02-15</th>\n",
       "      <td>BAJAJFINSV</td>\n",
       "      <td>EQ</td>\n",
       "      <td>5189.00</td>\n",
       "      <td>5200.00</td>\n",
       "      <td>5291.0</td>\n",
       "      <td>5112.05</td>\n",
       "      <td>5134.00</td>\n",
       "      <td>5130.35</td>\n",
       "      <td>5197.04</td>\n",
       "      <td>104197</td>\n",
       "      <td>...</td>\n",
       "      <td>4952.985714</td>\n",
       "      <td>133306.666667</td>\n",
       "      <td>166231.571429</td>\n",
       "      <td>6.960694e+13</td>\n",
       "      <td>8.393934e+13</td>\n",
       "      <td>141.943483</td>\n",
       "      <td>215.827622</td>\n",
       "      <td>51372.889474</td>\n",
       "      <td>2.331018e+13</td>\n",
       "      <td>5183.677600</td>\n",
       "    </tr>\n",
       "    <tr>\n",
       "      <th>2018-02-16</th>\n",
       "      <td>BAJAJFINSV</td>\n",
       "      <td>EQ</td>\n",
       "      <td>5130.35</td>\n",
       "      <td>5168.85</td>\n",
       "      <td>5199.8</td>\n",
       "      <td>5030.00</td>\n",
       "      <td>5055.55</td>\n",
       "      <td>5058.25</td>\n",
       "      <td>5089.32</td>\n",
       "      <td>88468</td>\n",
       "      <td>...</td>\n",
       "      <td>5028.700000</td>\n",
       "      <td>115737.333333</td>\n",
       "      <td>141287.000000</td>\n",
       "      <td>6.021876e+13</td>\n",
       "      <td>7.227025e+13</td>\n",
       "      <td>105.413408</td>\n",
       "      <td>81.747523</td>\n",
       "      <td>36848.735971</td>\n",
       "      <td>1.822208e+13</td>\n",
       "      <td>5203.403847</td>\n",
       "    </tr>\n",
       "  </tbody>\n",
       "</table>\n",
       "<p>5 rows × 26 columns</p>\n",
       "</div>"
      ],
      "text/plain": [
       "                Symbol Series  Prev Close     Open    High      Low     Last  \\\n",
       "Date                                                                           \n",
       "2018-02-09  BAJAJFINSV     EQ     5057.25  4989.90  5088.0  4961.20  5068.00   \n",
       "2018-02-12  BAJAJFINSV     EQ     5059.35  5096.30  5244.0  5042.80  5210.00   \n",
       "2018-02-14  BAJAJFINSV     EQ     5235.45  5260.00  5350.0  5152.30  5175.00   \n",
       "2018-02-15  BAJAJFINSV     EQ     5189.00  5200.00  5291.0  5112.05  5134.00   \n",
       "2018-02-16  BAJAJFINSV     EQ     5130.35  5168.85  5199.8  5030.00  5055.55   \n",
       "\n",
       "              Close     VWAP  Volume  ...  Lowrolling_mean_7  \\\n",
       "Date                                  ...                      \n",
       "2018-02-09  5059.35  5037.19  144600  ...        4826.821429   \n",
       "2018-02-12  5235.45  5184.22  141176  ...        4865.792857   \n",
       "2018-02-14  5189.00  5272.21  154547  ...        4903.128571   \n",
       "2018-02-15  5130.35  5197.04  104197  ...        4952.985714   \n",
       "2018-02-16  5058.25  5089.32   88468  ...        5028.700000   \n",
       "\n",
       "            Volumerolling_mean_3  Volumerolling_mean_7  \\\n",
       "Date                                                     \n",
       "2018-02-09         166873.666667         255094.142857   \n",
       "2018-02-12         146787.333333         225139.571429   \n",
       "2018-02-14         146774.333333         193623.428571   \n",
       "2018-02-15         133306.666667         166231.571429   \n",
       "2018-02-16         115737.333333         141287.000000   \n",
       "\n",
       "            Turnoverrolling_mean_3  Turnoverrolling_mean_7  Highrolling_std_3  \\\n",
       "Date                                                                            \n",
       "2018-02-09            8.401559e+13            1.265139e+14          79.389987   \n",
       "2018-02-12            7.493284e+13            1.122500e+14         103.400785   \n",
       "2018-02-14            7.583563e+13            9.691195e+13         142.107292   \n",
       "2018-02-15            6.960694e+13            8.393934e+13         141.943483   \n",
       "2018-02-16            6.021876e+13            7.227025e+13         105.413408   \n",
       "\n",
       "            Lowrolling_std_3  Volumerolling_std_3  Turnoverrolling_std_3  \\\n",
       "Date                                                                       \n",
       "2018-02-09        167.521603         91750.413573           4.514870e+13   \n",
       "2018-02-12        183.106338         89474.878072           4.375212e+13   \n",
       "2018-02-14        213.253902         62661.570046           2.863090e+13   \n",
       "2018-02-15        215.827622         51372.889474           2.331018e+13   \n",
       "2018-02-16         81.747523         36848.735971           1.822208e+13   \n",
       "\n",
       "            Forecast_ARIMA  \n",
       "Date                        \n",
       "2018-02-09     5068.554946  \n",
       "2018-02-12     5066.849385  \n",
       "2018-02-14     5122.256684  \n",
       "2018-02-15     5183.677600  \n",
       "2018-02-16     5203.403847  \n",
       "\n",
       "[5 rows x 26 columns]"
      ]
     },
     "execution_count": 55,
     "metadata": {},
     "output_type": "execute_result"
    }
   ],
   "source": [
    "testing_data.head()"
   ]
  },
  {
   "cell_type": "code",
   "execution_count": 58,
   "id": "fbbff53d-f79c-4155-af7d-fdb54510f73b",
   "metadata": {},
   "outputs": [
    {
     "data": {
      "text/html": [
       "<div>\n",
       "<style scoped>\n",
       "    .dataframe tbody tr th:only-of-type {\n",
       "        vertical-align: middle;\n",
       "    }\n",
       "\n",
       "    .dataframe tbody tr th {\n",
       "        vertical-align: top;\n",
       "    }\n",
       "\n",
       "    .dataframe thead th {\n",
       "        text-align: right;\n",
       "    }\n",
       "</style>\n",
       "<table border=\"1\" class=\"dataframe\">\n",
       "  <thead>\n",
       "    <tr style=\"text-align: right;\">\n",
       "      <th></th>\n",
       "      <th>Forecast_ARIMA</th>\n",
       "      <th>VWAP</th>\n",
       "    </tr>\n",
       "    <tr>\n",
       "      <th>Date</th>\n",
       "      <th></th>\n",
       "      <th></th>\n",
       "    </tr>\n",
       "  </thead>\n",
       "  <tbody>\n",
       "    <tr>\n",
       "      <th>2018-02-09</th>\n",
       "      <td>5068.554946</td>\n",
       "      <td>5037.19</td>\n",
       "    </tr>\n",
       "    <tr>\n",
       "      <th>2018-02-12</th>\n",
       "      <td>5066.849385</td>\n",
       "      <td>5184.22</td>\n",
       "    </tr>\n",
       "    <tr>\n",
       "      <th>2018-02-14</th>\n",
       "      <td>5122.256684</td>\n",
       "      <td>5272.21</td>\n",
       "    </tr>\n",
       "    <tr>\n",
       "      <th>2018-02-15</th>\n",
       "      <td>5183.677600</td>\n",
       "      <td>5197.04</td>\n",
       "    </tr>\n",
       "    <tr>\n",
       "      <th>2018-02-16</th>\n",
       "      <td>5203.403847</td>\n",
       "      <td>5089.32</td>\n",
       "    </tr>\n",
       "    <tr>\n",
       "      <th>...</th>\n",
       "      <td>...</td>\n",
       "      <td>...</td>\n",
       "    </tr>\n",
       "    <tr>\n",
       "      <th>2021-04-26</th>\n",
       "      <td>9989.679551</td>\n",
       "      <td>9995.72</td>\n",
       "    </tr>\n",
       "    <tr>\n",
       "      <th>2021-04-27</th>\n",
       "      <td>10070.273695</td>\n",
       "      <td>10036.76</td>\n",
       "    </tr>\n",
       "    <tr>\n",
       "      <th>2021-04-28</th>\n",
       "      <td>10267.145392</td>\n",
       "      <td>10445.96</td>\n",
       "    </tr>\n",
       "    <tr>\n",
       "      <th>2021-04-29</th>\n",
       "      <td>10721.051346</td>\n",
       "      <td>10980.40</td>\n",
       "    </tr>\n",
       "    <tr>\n",
       "      <th>2021-04-30</th>\n",
       "      <td>11120.564019</td>\n",
       "      <td>11081.78</td>\n",
       "    </tr>\n",
       "  </tbody>\n",
       "</table>\n",
       "<p>795 rows × 2 columns</p>\n",
       "</div>"
      ],
      "text/plain": [
       "            Forecast_ARIMA      VWAP\n",
       "Date                                \n",
       "2018-02-09     5068.554946   5037.19\n",
       "2018-02-12     5066.849385   5184.22\n",
       "2018-02-14     5122.256684   5272.21\n",
       "2018-02-15     5183.677600   5197.04\n",
       "2018-02-16     5203.403847   5089.32\n",
       "...                    ...       ...\n",
       "2021-04-26     9989.679551   9995.72\n",
       "2021-04-27    10070.273695  10036.76\n",
       "2021-04-28    10267.145392  10445.96\n",
       "2021-04-29    10721.051346  10980.40\n",
       "2021-04-30    11120.564019  11081.78\n",
       "\n",
       "[795 rows x 2 columns]"
      ]
     },
     "execution_count": 58,
     "metadata": {},
     "output_type": "execute_result"
    }
   ],
   "source": [
    "testing_data[['Forecast_ARIMA','VWAP']]"
   ]
  },
  {
   "cell_type": "code",
   "execution_count": 60,
   "id": "a176ea9a-c4b3-46e4-959b-daed5d98ecba",
   "metadata": {},
   "outputs": [
    {
     "data": {
      "text/plain": [
       "<Axes: xlabel='Date'>"
      ]
     },
     "execution_count": 60,
     "metadata": {},
     "output_type": "execute_result"
    },
    {
     "data": {
      "image/png": "[encoded data removed]",
      "text/plain": [
       "<Figure size 1000x600 with 1 Axes>"
      ]
     },
     "metadata": {},
     "output_type": "display_data"
    }
   ],
   "source": [
    "testing_data[['Forecast_ARIMA','VWAP']].plot(figsize=(10,6))"
   ]
  },
  {
   "cell_type": "code",
   "execution_count": 61,
   "id": "78e50ae5-58c6-4561-a654-d692c9aa7ff0",
   "metadata": {},
   "outputs": [],
   "source": [
    "from sklearn.metrics import mean_absolute_error, mean_squared_error"
   ]
  },
  {
   "cell_type": "code",
   "execution_count": 63,
   "id": "2d0a4328-0468-4645-af40-87da2b7150b7",
   "metadata": {},
   "outputs": [
    {
     "data": {
      "text/plain": [
       "11842.096532479869"
      ]
     },
     "execution_count": 63,
     "metadata": {},
     "output_type": "execute_result"
    }
   ],
   "source": [
    "mean_squared_error(testing_data['VWAP'],testing_data['Forecast_ARIMA'])"
   ]
  },
  {
   "cell_type": "code",
   "execution_count": 64,
   "id": "8b40cfad-3200-4f1c-a31b-c6a3b6fd0df8",
   "metadata": {},
   "outputs": [
    {
     "data": {
      "text/plain": [
       "np.float64(108.82139740179717)"
      ]
     },
     "execution_count": 64,
     "metadata": {},
     "output_type": "execute_result"
    }
   ],
   "source": [
    "np.sqrt(mean_squared_error(testing_data['VWAP'],testing_data['Forecast_ARIMA']))"
   ]
  },
  {
   "cell_type": "code",
   "execution_count": 65,
   "id": "7c38844a-cdea-458a-9c06-223b6ba31856",
   "metadata": {},
   "outputs": [
    {
     "data": {
      "text/plain": [
       "78.08460041987328"
      ]
     },
     "execution_count": 65,
     "metadata": {},
     "output_type": "execute_result"
    }
   ],
   "source": [
    "mean_absolute_error(testing_data['VWAP'],testing_data['Forecast_ARIMA'])"
   ]
  },
  {
   "cell_type": "code",
   "execution_count": null,
   "id": "f5e1142f-6709-49d9-9288-b788dd387d6a",
   "metadata": {},
   "outputs": [],
   "source": []
  },
  {
   "cell_type": "code",
   "execution_count": null,
   "id": "b76206fc-ac3f-4192-a3be-99a09cb54a6e",
   "metadata": {},
   "outputs": [],
   "source": []
  },
  {
   "cell_type": "code",
   "execution_count": null,
   "id": "fdfe7429-69a1-4870-9b90-7f783f89f688",
   "metadata": {},
   "outputs": [],
   "source": []
  }
 ],
 "metadata": {
  "kernelspec": {
   "display_name": "Python [conda env:ts-env]",
   "language": "python",
   "name": "conda-env-ts-env-py"
  },
  "language_info": {
   "codemirror_mode": {
    "name": "ipython",
    "version": 3
   },
   "file_extension": ".py",
   "mimetype": "text/x-python",
   "name": "python",
   "nbconvert_exporter": "python",
   "pygments_lexer": "ipython3",
   "version": "3.12.7"
  }
 },
 "nbformat": 4,
 "nbformat_minor": 5
}
